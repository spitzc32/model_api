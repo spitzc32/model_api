{
  "nbformat": 4,
  "nbformat_minor": 0,
  "metadata": {
    "colab": {
      "provenance": [],
      "collapsed_sections": []
    },
    "kernelspec": {
      "name": "python3",
      "display_name": "Python 3"
    },
    "language_info": {
      "name": "python"
    }
  },
  "cells": [
    {
      "cell_type": "markdown",
      "source": [
        "<h1>Installation and Setup</h1>\n",
        "This is where all installations of third party libraries to require us the dependencies we need.\n",
        "\n"
      ],
      "metadata": {
        "id": "--S0qBE5WKyV"
      }
    },
    {
      "cell_type": "markdown",
      "source": [
        "<h1> Imports</h1>\n",
        "The following tools are what we need to use in order to check the nature of the data under the CoNLL Dataset we downloaded above.\n",
        "\n",
        "<h4>Process</h4>\n",
        "WE define the process based on the features and goals we would like to extract from the Data. The followin visualizations are our goal:\n",
        "\n",
        "*   Identifying the sentence length based on the segmented text\n",
        "*   Identifying the Skewness of each token that are under PHI terms mentioned before and\n",
        "*   Identifying how the grammatical structure affects the labeled PHI term meaning in a sentence, contextual and token level.\n",
        "\n"
      ],
      "metadata": {
        "id": "_fxMenLn01gj"
      }
    },
    {
      "cell_type": "code",
      "source": [
        "# Visualizations\n",
        "import matplotlib.pyplot as plt\n",
        "import seaborn as sns\n",
        "\n",
        "sns.set_theme(style=\"white\", context=\"talk\")\n",
        "plt.style.use('default')\n",
        "%matplotlib inline"
      ],
      "metadata": {
        "id": "601-qV564fQ8"
      },
      "execution_count": 2,
      "outputs": []
    },
    {
      "cell_type": "code",
      "source": [
        "import os\n",
        "import re\n",
        "import gc\n",
        "import sys\n",
        "import random\n",
        "import datetime\n",
        "import itertools\n",
        "import numpy as np\n",
        "import pandas as pd\n",
        "from tqdm import tqdm\n",
        "from pathlib import Path\n",
        "from collections import defaultdict, namedtuple, Counter\n",
        "\n",
        "from typing import (List, Dict, Any, Tuple, Optional, Union)"
      ],
      "metadata": {
        "id": "JnBZQ4trrau6"
      },
      "execution_count": 1,
      "outputs": []
    },
    {
      "cell_type": "code",
      "source": [
        "import warnings\n",
        "warnings.filterwarnings(\"ignore\")\n",
        "\n",
        "import logging\n",
        "logging.basicConfig(format='%(levelname)s: %(message)s', level=logging.INFO)"
      ],
      "metadata": {
        "id": "tsKi7PM5rlLZ"
      },
      "execution_count": 3,
      "outputs": []
    },
    {
      "cell_type": "markdown",
      "source": [
        "## Dataset Summary\n",
        "The shared task of **I2B2 2014** concerns language-independent named entity recognition. \n",
        "\n",
        "There are 8 types of named entities: \n",
        "*  DATE, \n",
        "*  NAME, \n",
        "*  LOCATION, \n",
        "*  AGE, \n",
        "*  ID, \n",
        "*  PROFESSION, \n",
        "*  CONTACT, \n",
        "*  PHI\n",
        "\n",
        "The I2B2-2014 task data files contain four columns separated by a single space. Each word has been put on a separate line and there is an empty line after each sentence. \n",
        "\n",
        "#### Columns:\n",
        "1. **Token** - a single word,\n",
        "2. **NERTag** - the named entity tag\n",
        "\n",
        "#### Other notes:\n",
        "* Dataset uses **IOB1 tagging scheme**, where the `I- prefix` before a tag indicates that the tag is inside a chunk. An `O tag` indicates that a token belongs to no chunk. The `B- prefix` before a tag indicates that the tag is the beginning of a chunk that immediately follows another chunk without O tags between them. It is used only in that case: when a chunk comes after an O tag, the first token of the chunk takes the I- prefix. \n",
        "* `-DOCSTART-` - is a special line that acts as a boundary between two different documents.\n",
        "\n"
      ],
      "metadata": {
        "id": "DywDYvPTzcaS"
      }
    },
    {
      "cell_type": "code",
      "source": [
        "train_fn = \"/content/train.txt\"\n",
        "val_fn = \"/content/test.txt\""
      ],
      "metadata": {
        "id": "5k21TbaCk3ck"
      },
      "execution_count": 4,
      "outputs": []
    },
    {
      "cell_type": "code",
      "source": [
        "class TextData:\n",
        "    \"\"\" Representation of single sentence/text and it's attributes. \"\"\"\n",
        "\n",
        "    def __init__(self, tokens: List[str], \n",
        "                 ner_tags: List[str]) -> None:\n",
        "        self.tokens = tokens\n",
        "        self.ner_tags = ner_tags\n",
        "        self.spans = None\n",
        "    \n",
        "    def __str__(self) -> str:\n",
        "        s = f\"Tokens: {self.tokens},\\n\"\n",
        "        s += f\"NER tags: {self.ner_tags},\\n\"\n",
        "        return s\n",
        "    \n",
        "    def set_spans(self, spans: List[List[int]]):\n",
        "        \"\"\"\n",
        "        Initialize spans bondaries in the tokens sequence.\n",
        "        Spans are `inclusive`.\n",
        "        e.t. [start_i, end_i], not (start_i, end_i) !\n",
        "        \"\"\"\n",
        "        self.spans = spans"
      ],
      "metadata": {
        "id": "gyhkDZqX1waj"
      },
      "execution_count": 5,
      "outputs": []
    },
    {
      "cell_type": "code",
      "source": [
        "def split_tag(span_tag: str):\n",
        "    \"\"\"\n",
        "    Split span tag into IOBES prefix and chunk_type\n",
        "    e.g. \n",
        "    B-PER -> (B, PER)\n",
        "    O -> (O, None)\n",
        "    \"\"\"\n",
        "    if span_tag == 'O':\n",
        "        return ('O', None)\n",
        "    return span_tag.split('-', maxsplit=1)\n",
        "\n",
        "def _is_doc_start(line: str) -> bool:\n",
        "    if line.strip().startswith(\"-DOCSTART-\"):\n",
        "        return True\n",
        "    return False\n",
        "\n",
        "def _is_divider(line: str) -> bool:\n",
        "    empty_line = line.strip() == ''\n",
        "    if empty_line:\n",
        "        return True\n",
        "    return False\n",
        "\n",
        "def read_conllu_data(data_fn: str):\n",
        "    dataset = []\n",
        "\n",
        "    with open(str(data_fn), 'rt') as f:\n",
        "        for is_divider, lines in itertools.groupby(f, _is_divider):\n",
        "            lines = list(lines)\n",
        "            if is_divider or not len(lines[0]):\n",
        "                continue\n",
        "            if _is_doc_start(lines[0]):\n",
        "                continue\n",
        "            # fields of data\n",
        "            fields = [line.strip().split() for line in lines]\n",
        "            # data as list: [[tokens], [pos_tags], [sync_tags], [ner_tags]]\n",
        "            fields = [list(field) for field in zip(*fields)]  \n",
        "            dataset.append(TextData(tokens=fields[0],\n",
        "                                    ner_tags=fields[1]))\n",
        "    return dataset"
      ],
      "metadata": {
        "id": "gtxJsBYL18Fv"
      },
      "execution_count": 6,
      "outputs": []
    },
    {
      "cell_type": "code",
      "source": [
        "train_data = read_conllu_data(str(train_fn))\n",
        "test_data = read_conllu_data(str(val_fn))\n",
        "\n",
        "print(f\"Train data contains: {len(train_data)} texts and total {sum([len(d.tokens) for d in train_data])} tokens\")\n",
        "print(f\"Val data contains: {len(test_data)} texts and total {sum([len(d.tokens) for d in test_data])} tokens\")"
      ],
      "metadata": {
        "colab": {
          "base_uri": "https://localhost:8080/"
        },
        "id": "XoqNizT619gb",
        "outputId": "d6af604d-e721-4b19-fcaf-7bdb26979c2b"
      },
      "execution_count": 7,
      "outputs": [
        {
          "output_type": "stream",
          "name": "stdout",
          "text": [
            "Train data contains: 22340 texts and total 412443 tokens\n",
            "Val data contains: 11100 texts and total 195170 tokens\n"
          ]
        }
      ]
    },
    {
      "cell_type": "code",
      "source": [
        "train_sentences_lens = [len(sent.tokens) for sent in train_data]\n",
        "test_sentences_lens = [len(sent.tokens) for sent in test_data]"
      ],
      "metadata": {
        "id": "7qmc_0XR2eOs"
      },
      "execution_count": 11,
      "outputs": []
    },
    {
      "cell_type": "markdown",
      "source": [
        "<h2>Comparison Of Sentence Lengths</h2>\n",
        "As stated before, we will compare the  mean of the sentence lengths of the dataset."
      ],
      "metadata": {
        "id": "TiG1xcgT3rXE"
      }
    },
    {
      "cell_type": "code",
      "source": [
        "# Training Data\n",
        "plt.figure(figsize=(10, 6))\n",
        "d = sns.histplot(data=train_sentences_lens, kde=True)\n",
        "d.set_ylabel(\"Num. sentences\")\n",
        "d.set_xlabel(\"Sentence length (Num. tokens)\")\n",
        "_ = d.set_title(\"Train Dataset sentences length\")\\\n",
        "\n",
        "print(f\"Train Dataset sentences length distributions:\")\n",
        "print(pd.Series(train_sentences_lens).describe())"
      ],
      "metadata": {
        "colab": {
          "base_uri": "https://localhost:8080/",
          "height": 583
        },
        "id": "XOToblFa2XHu",
        "outputId": "821f2066-021d-4c3d-eb90-8b77f6f68db4"
      },
      "execution_count": 12,
      "outputs": [
        {
          "output_type": "stream",
          "name": "stdout",
          "text": [
            "Train Dataset sentences length distributions:\n",
            "count    22340.000000\n",
            "mean        18.462086\n",
            "std         33.407522\n",
            "min          1.000000\n",
            "25%          6.000000\n",
            "50%         11.000000\n",
            "75%         19.000000\n",
            "max        923.000000\n",
            "dtype: float64\n"
          ]
        },
        {
          "output_type": "display_data",
          "data": {
            "text/plain": [
              "<Figure size 720x432 with 1 Axes>"
            ],
            "image/png": "[encoded data removed]"
          },
          "metadata": {
            "needs_background": "light"
          }
        }
      ]
    },
    {
      "cell_type": "code",
      "source": [
        "# On validation data\n",
        "plt.figure(figsize=(10, 6))\n",
        "d = sns.histplot(data=test_sentences_lens, kde=True)\n",
        "d.set_ylabel(\"Num. sentences\")\n",
        "d.set_xlabel(\"Sentence length (Num. tokens)\")\n",
        "_ = d.set_title(\"Test Dataset sentences length\")\\\n",
        "\n",
        "print(f\"Test Dataset sentences length distributions:\")\n",
        "print(pd.Series(test_sentences_lens).describe())"
      ],
      "metadata": {
        "colab": {
          "base_uri": "https://localhost:8080/",
          "height": 583
        },
        "id": "Ke1mQRPW4Hx0",
        "outputId": "605bbf0f-0502-4e35-e01c-eb490e5c9466"
      },
      "execution_count": 13,
      "outputs": [
        {
          "output_type": "stream",
          "name": "stdout",
          "text": [
            "Test Dataset sentences length distributions:\n",
            "count    11100.000000\n",
            "mean        17.582883\n",
            "std         31.194481\n",
            "min          1.000000\n",
            "25%          6.000000\n",
            "50%         11.000000\n",
            "75%         19.000000\n",
            "max        656.000000\n",
            "dtype: float64\n"
          ]
        },
        {
          "output_type": "display_data",
          "data": {
            "text/plain": [
              "<Figure size 720x432 with 1 Axes>"
            ],
            "image/png": "[encoded data removed]"
          },
          "metadata": {
            "needs_background": "light"
          }
        }
      ]
    },
    {
      "cell_type": "markdown",
      "source": [
        "**Findings**\n",
        "\n",
        "\n",
        "*   Validation dataset's sentences are a bit more longer than the sentences in the training data at mean value. However this point is not very critical, cause difference is not very high: 18.4 vs. 17.5\n"
      ],
      "metadata": {
        "id": "urLjDrnc4WRv"
      }
    },
    {
      "cell_type": "markdown",
      "source": [
        "<h2>Tag Distribution: </h2>\n",
        "Checking the Tag Distribution given the NER-tags in the dataset"
      ],
      "metadata": {
        "id": "gBBCztUy6XdS"
      }
    },
    {
      "cell_type": "code",
      "source": [
        "def ner_tags_distribution(text_data: List[TextData]) -> Dict[str, Any]:\n",
        "    return Counter(list(itertools.chain.from_iterable([text.ner_tags for text in text_data]))).most_common()\n",
        "\n",
        "def ner_tags_distribution_splitted(text_data: List[TextData]) -> Dict[str, Any]:\n",
        "    tags_ = [split_tag(tag) for text in text_data for tag in text.ner_tags]\n",
        "    return Counter([tag[0] if tag[1] is None else tag[1] for tag in tags_ ]).most_common()"
      ],
      "metadata": {
        "id": "L79KVicD4SdX"
      },
      "execution_count": 14,
      "outputs": []
    },
    {
      "cell_type": "code",
      "source": [
        "# Calculate separately\n",
        "\n",
        "# Tags with prefixes: B- and I-\n",
        "train_ner_tags_dist = pd.DataFrame.from_records(ner_tags_distribution(train_data), \n",
        "                                                columns=['tag', 'cnt'])\n",
        "test_ner_tags_dist = pd.DataFrame.from_records(ner_tags_distribution(test_data), \n",
        "                                              columns=['tag', 'cnt'])\n",
        "# Tags without prefixes\n",
        "train_ner_tags_spl_dist = pd.DataFrame.from_records(ner_tags_distribution_splitted(train_data), \n",
        "                                                columns=['tag', 'cnt'])\n",
        "test_ner_tags_spl_dist = pd.DataFrame.from_records(ner_tags_distribution_splitted(test_data), \n",
        "                                              columns=['tag', 'cnt'])"
      ],
      "metadata": {
        "id": "JNYF9oJN4dn4"
      },
      "execution_count": 16,
      "outputs": []
    },
    {
      "cell_type": "code",
      "source": [
        "# Visualize with prefixes\n",
        "fig, axes = plt.subplots(1, 2, sharex=True, figsize=(16, 8))\n",
        "\n",
        "axes[0].set_title('Train Dataset')\n",
        "sns.barplot(data=train_ner_tags_dist, y=\"tag\", x='cnt', ax=axes[0])\n",
        "axes[0].set_ylabel(\"Num. tags\")\n",
        "axes[0].set_xlabel(\"Tags\")\n",
        "\n",
        "sum_train_tags = sum([p.get_width() for p in axes[0].patches])\n",
        "for p in axes[0].patches:\n",
        "    axes[0].annotate(f\"{int(p.get_width())}\\n({round(100*(p.get_width()/sum_train_tags), 2)}%)\",\n",
        "                     xy=(p.get_width(), p.get_y()+p.get_height()/2),\n",
        "            xytext=(5, 0), textcoords='offset points', ha=\"left\", va=\"center\")\n",
        "\n",
        "axes[1].set_title('Test Dataset')\n",
        "sns.barplot(data=test_ner_tags_dist, y=\"tag\", x='cnt', ax=axes[1])\n",
        "axes[1].set_ylabel(\"Num. tags\")\n",
        "axes[1].set_xlabel(\"Tags\")\n",
        "\n",
        "sum_val_tags = sum([p.get_width() for p in axes[1].patches])\n",
        "for p in axes[1].patches:\n",
        "    axes[1].annotate(f\"{int(p.get_width())}\\n({round(100*(p.get_width()/sum_val_tags), 2)}%)\", \n",
        "                     xy=(p.get_width(), p.get_y()+p.get_height()/2),\n",
        "            xytext=(5, 0), textcoords='offset points', ha=\"left\", va=\"center\")\n",
        "\n",
        "plt.show()"
      ],
      "metadata": {
        "colab": {
          "base_uri": "https://localhost:8080/",
          "height": 509
        },
        "id": "MzXWe2kv4hPq",
        "outputId": "5b0a9b85-a635-48d6-d39b-c3b2251ca354"
      },
      "execution_count": 17,
      "outputs": [
        {
          "output_type": "display_data",
          "data": {
            "text/plain": [
              "<Figure size 1152x576 with 2 Axes>"
            ],
            "image/png": "[encoded data removed]"
          },
          "metadata": {
            "needs_background": "light"
          }
        }
      ]
    },
    {
      "cell_type": "code",
      "source": [
        "ner_tags_dist = train_ner_tags_spl_dist.merge(test_ner_tags_spl_dist, \n",
        "                                              how='outer', on='tag', \n",
        "                                              suffixes=['_train', '_val']).fillna(0)\n",
        "ner_tags_dist['cnt'] = (ner_tags_dist['cnt_train'] + ner_tags_dist['cnt_val']).astype('int')\n",
        "entities_types = ner_tags_dist['tag'].unique().tolist()\n",
        "print(f\"No-prefixes entities types: {entities_types}\")\n",
        "\n",
        "ner_tags_dist = train_ner_tags_dist.merge(test_ner_tags_dist, \n",
        "                                          how='outer', on='tag', \n",
        "                                          suffixes=['_train', '_val']).fillna(0)\n",
        "ner_tags_dist['cnt'] = (ner_tags_dist['cnt_train'] + ner_tags_dist['cnt_val']).astype('int')\n",
        "pref_entities_types = ner_tags_dist['tag'].unique().tolist()\n",
        "print(f\"With-prefixes entities types: {pref_entities_types}\")"
      ],
      "metadata": {
        "colab": {
          "base_uri": "https://localhost:8080/"
        },
        "id": "zq5JYypk4uFJ",
        "outputId": "136eb9db-6090-490f-aa03-36f575fa03c0"
      },
      "execution_count": 19,
      "outputs": [
        {
          "output_type": "stream",
          "name": "stdout",
          "text": [
            "No-prefixes entities types: ['O', 'DATE', 'NAME', 'LOCATION', 'AGE', 'ID', 'PROFESSION', 'CONTACT', 'PHI']\n",
            "With-prefixes entities types: ['O', 'I-DATE', 'I-NAME', 'I-LOCATION', 'I-AGE', 'I-ID', 'I-PROFESSION', 'I-CONTACT', 'I-PHI']\n"
          ]
        }
      ]
    },
    {
      "cell_type": "markdown",
      "source": [
        "**Findings**\n",
        "\n",
        "*   There is **a strong imbalance of classes**, and it does not make sense to take into account the OUT label at all in quality estimation of the model.\n",
        "*   Another option is to augment our training dataset with new samples for NE classes: ``` [`PER`, `ORG`, `LOC`, `MISK`] ```"
      ],
      "metadata": {
        "id": "Ah2ug3zB6R3N"
      }
    },
    {
      "cell_type": "markdown",
      "source": [
        "#### Spans of Named Entities\n",
        "\n",
        "Named Entities  in texts are usually represented as contiguous spans of tokens, so let's discover **lengths distribution** of them and **average number of spans** in each sentence.\n",
        "\n",
        "Let's select them and print some examples of them: "
      ],
      "metadata": {
        "id": "jSe111ap6l3R"
      }
    },
    {
      "cell_type": "code",
      "source": [
        "n_examples = 5\n",
        "entities_examples = dict.fromkeys([t for t in entities_types if t != \"O\"])\n",
        "\n",
        "for ent_name in [t for t in entities_types if t != \"O\"]:\n",
        "    n_found = 0\n",
        "    found_spans = []\n",
        "    for d in train_data:\n",
        "        if ent_name in np.unique([tag.split(\"-\")[-1] for tag in d.ner_tags]):\n",
        "            span_tokens = []\n",
        "            start_i = d.ner_tags.index(f\"I-{ent_name}\")  # for IOB1 tagging\n",
        "            for i, tag in enumerate(d.ner_tags[start_i:]):\n",
        "                if tag in [\"O\", \"B\"]:  # for IOB1 tagging\n",
        "                    break\n",
        "                span_tokens.append(d.tokens[start_i+i])\n",
        "            found_spans.append(\" \".join(span_tokens))\n",
        "            n_found += 1\n",
        "            if n_found > n_examples:\n",
        "                break\n",
        "    entities_examples[ent_name] = found_spans\n",
        "\n",
        "for ent, exs in entities_examples.items():\n",
        "    print(f\"{ent}:\")\n",
        "    for e in exs:\n",
        "        print(f\"\\t{e}\")"
      ],
      "metadata": {
        "colab": {
          "base_uri": "https://localhost:8080/"
        },
        "id": "-2fbdVCN6T1c",
        "outputId": "71c23536-ac56-4a03-dcde-d86db6e76ff1"
      },
      "execution_count": 20,
      "outputs": [
        {
          "output_type": "stream",
          "name": "stdout",
          "text": [
            "DATE:\n",
            "\t2067-05-03\n",
            "\t4/5/67\n",
            "\t7/67\n",
            "\t2062\n",
            "\t4/63\n",
            "\t3/67\n",
            "NAME:\n",
            "\tOakley 4/5/67\n",
            "\tOakley\n",
            "\tOakley\n",
            "\tOakley\n",
            "\tDolan\n",
            "\tDolan\n",
            "LOCATION:\n",
            "\tClarkfield\n",
            "\tClarkfield 3/67\n",
            "\tClarkfield 3/67\n",
            "\tConvergys\n",
            "\tClarkfield 3/67\n",
            "\tConvergys\n",
            "AGE:\n",
            "\t55\n",
            "\t37\n",
            "\t37\n",
            "\t37\n",
            "\t78\n",
            "\t26\n",
            "ID:\n",
            "\tpf 0760305\n",
            "\t6381987\n",
            "\t425-03-15-1\n",
            "\tIL050/525 IKECHUKWU SPEARS\n",
            "\t425-03-15-1\n",
            "\tOT109/6637 FRANK EMMONS\n",
            "PROFESSION:\n",
            "\tSculptor\n",
            "\tSculptor\n",
            "\tSculptor\n",
            "\tEconomist\n",
            "\teconomics\n",
            "\tCarpentry Supervisor\n",
            "CONTACT:\n",
            "\t69981\n",
            "\t170-574-2276\n",
            "\t78686\n",
            "\t50173\n",
            "\t82910\n",
            "\t82910\n",
            "PHI:\n",
            "\tOctober\n",
            "\tFebruary 2086\n",
            "\tOctober\n",
            "\t2073\n",
            "\tYehuda Landers\n"
          ]
        }
      ]
    },
    {
      "cell_type": "code",
      "source": [
        "def select_spans_IOB1(text_data: List[TextData]) -> List[List[int]]:\n",
        "    all_spans = []\n",
        "    \n",
        "    # iterate over the texts\n",
        "    for d in text_data:\n",
        "        spans = []\n",
        "        cur_tag = None\n",
        "        cur_start = None\n",
        "        # iterate over the tags\n",
        "        for tag_i, tag in enumerate(d.ner_tags):\n",
        "            tag_pos = tag[0]  # tag `position`\n",
        "            if tag_pos == 'B':\n",
        "                # save previous span, if exists\n",
        "                if cur_tag is not None:\n",
        "                    spans.append([cur_tag, cur_start, tag_i - 1])\n",
        "                cur_start = tag_i  # new tag starts\n",
        "                cur_tag = tag[2:]  # tag `name`\n",
        "            elif tag_pos == 'I':\n",
        "                # new tag starts\n",
        "                if cur_tag is None: \n",
        "                    cur_start = tag_i  # new tag starts\n",
        "                    cur_tag = tag[2:]  # tag `name`\n",
        "            elif tag_pos == 'O':\n",
        "                # span finished, saving\n",
        "                if cur_tag is not None:\n",
        "                    spans.append([cur_tag, cur_start, tag_i - 1])\n",
        "                    cur_tag = None\n",
        "                    cur_start = None\n",
        "        # save last span    \n",
        "        if cur_tag is not None:\n",
        "            spans.append([cur_tag, cur_start, tag_i + 1])\n",
        "\n",
        "        # set to current sequence excluding tag type\n",
        "        # d.set_spans([s[1:] for s in spans])\n",
        "        all_spans.append(spans)\n",
        "\n",
        "    return all_spans\n",
        "\n",
        "def span_length(start_i: int, end_i: int) -> int:\n",
        "    \"\"\" \n",
        "    Assumes inclusive span bondaries. \n",
        "    \"\"\"\n",
        "    return end_i - start_i + 1"
      ],
      "metadata": {
        "id": "ARO1VMz_AlFO"
      },
      "execution_count": 21,
      "outputs": []
    },
    {
      "cell_type": "code",
      "source": [
        "# Retrieve spans of NE from train and val datasets\n",
        "train_spans = select_spans_IOB1(train_data)\n",
        "test_spans = select_spans_IOB1(test_data)\n",
        "\n",
        "print(f\"Train data contains: {sum([len(s) for s in train_spans])} NE spans.\")\n",
        "print(f\"Test data contains: {sum([len(s) for s in test_spans])} NE spans.\")"
      ],
      "metadata": {
        "colab": {
          "base_uri": "https://localhost:8080/"
        },
        "id": "dcEgLFH8AnNj",
        "outputId": "48e4a598-ec27-4177-c55e-3b97fd7f300c"
      },
      "execution_count": 26,
      "outputs": [
        {
          "output_type": "stream",
          "name": "stdout",
          "text": [
            "Train data contains: 10505 NE spans.\n",
            "Test data contains: 4915 NE spans.\n"
          ]
        }
      ]
    },
    {
      "cell_type": "code",
      "source": [
        "# Train spans\n",
        "train_spans = pd.DataFrame.from_records(list(itertools.chain.from_iterable(train_spans)), \n",
        "                                        columns=['tag', 'start_i', 'end_i'])\n",
        "train_spans['span_len'] = train_spans[['start_i', 'end_i']].apply(lambda x: span_length(x[0], x[1]), axis=1)\n",
        "\n",
        "print(\"General span length distribution:\")\n",
        "print(train_spans['span_len'].describe())\n",
        "\n",
        "print(\"\\nBy Tags:\")\n",
        "train_spans.groupby(by='tag')['span_len'].describe()"
      ],
      "metadata": {
        "colab": {
          "base_uri": "https://localhost:8080/",
          "height": 546
        },
        "id": "FgegKKJ8Apmf",
        "outputId": "780a33f4-a6a6-4686-96c5-4dfa7064e297"
      },
      "execution_count": 27,
      "outputs": [
        {
          "output_type": "stream",
          "name": "stdout",
          "text": [
            "General span length distribution:\n",
            "count    10505.000000\n",
            "mean         1.392765\n",
            "std          0.894441\n",
            "min          1.000000\n",
            "25%          1.000000\n",
            "50%          1.000000\n",
            "75%          1.000000\n",
            "max         11.000000\n",
            "Name: span_len, dtype: float64\n",
            "\n",
            "By Tags:\n"
          ]
        },
        {
          "output_type": "execute_result",
          "data": {
            "text/plain": [
              "             count      mean       std  min  25%  50%  75%   max\n",
              "tag                                                             \n",
              "AGE          557.0  1.016158  0.126196  1.0  1.0  1.0  1.0   2.0\n",
              "CONTACT      210.0  1.680952  0.750196  1.0  1.0  2.0  2.0   6.0\n",
              "DATE        4874.0  1.161059  0.632029  1.0  1.0  1.0  1.0  11.0\n",
              "ID           341.0  1.325513  0.780023  1.0  1.0  1.0  1.0   5.0\n",
              "LOCATION    1417.0  2.019054  1.516036  1.0  1.0  1.0  3.0  10.0\n",
              "NAME        2816.0  1.539418  0.774281  1.0  1.0  1.0  2.0   9.0\n",
              "PHI            4.0  1.500000  0.577350  1.0  1.0  1.5  2.0   2.0\n",
              "PROFESSION   286.0  1.395105  0.846775  1.0  1.0  1.0  1.0   6.0"
            ],
            "text/html": [
              "\n",
              "  <div id=\"df-bf0e47e1-3138-452a-8be6-5fe2532dde15\">\n",
              "    <div class=\"colab-df-container\">\n",
              "      <div>\n",
              "<style scoped>\n",
              "    .dataframe tbody tr th:only-of-type {\n",
              "        vertical-align: middle;\n",
              "    }\n",
              "\n",
              "    .dataframe tbody tr th {\n",
              "        vertical-align: top;\n",
              "    }\n",
              "\n",
              "    .dataframe thead th {\n",
              "        text-align: right;\n",
              "    }\n",
              "</style>\n",
              "<table border=\"1\" class=\"dataframe\">\n",
              "  <thead>\n",
              "    <tr style=\"text-align: right;\">\n",
              "      <th></th>\n",
              "      <th>count</th>\n",
              "      <th>mean</th>\n",
              "      <th>std</th>\n",
              "      <th>min</th>\n",
              "      <th>25%</th>\n",
              "      <th>50%</th>\n",
              "      <th>75%</th>\n",
              "      <th>max</th>\n",
              "    </tr>\n",
              "    <tr>\n",
              "      <th>tag</th>\n",
              "      <th></th>\n",
              "      <th></th>\n",
              "      <th></th>\n",
              "      <th></th>\n",
              "      <th></th>\n",
              "      <th></th>\n",
              "      <th></th>\n",
              "      <th></th>\n",
              "    </tr>\n",
              "  </thead>\n",
              "  <tbody>\n",
              "    <tr>\n",
              "      <th>AGE</th>\n",
              "      <td>557.0</td>\n",
              "      <td>1.016158</td>\n",
              "      <td>0.126196</td>\n",
              "      <td>1.0</td>\n",
              "      <td>1.0</td>\n",
              "      <td>1.0</td>\n",
              "      <td>1.0</td>\n",
              "      <td>2.0</td>\n",
              "    </tr>\n",
              "    <tr>\n",
              "      <th>CONTACT</th>\n",
              "      <td>210.0</td>\n",
              "      <td>1.680952</td>\n",
              "      <td>0.750196</td>\n",
              "      <td>1.0</td>\n",
              "      <td>1.0</td>\n",
              "      <td>2.0</td>\n",
              "      <td>2.0</td>\n",
              "      <td>6.0</td>\n",
              "    </tr>\n",
              "    <tr>\n",
              "      <th>DATE</th>\n",
              "      <td>4874.0</td>\n",
              "      <td>1.161059</td>\n",
              "      <td>0.632029</td>\n",
              "      <td>1.0</td>\n",
              "      <td>1.0</td>\n",
              "      <td>1.0</td>\n",
              "      <td>1.0</td>\n",
              "      <td>11.0</td>\n",
              "    </tr>\n",
              "    <tr>\n",
              "      <th>ID</th>\n",
              "      <td>341.0</td>\n",
              "      <td>1.325513</td>\n",
              "      <td>0.780023</td>\n",
              "      <td>1.0</td>\n",
              "      <td>1.0</td>\n",
              "      <td>1.0</td>\n",
              "      <td>1.0</td>\n",
              "      <td>5.0</td>\n",
              "    </tr>\n",
              "    <tr>\n",
              "      <th>LOCATION</th>\n",
              "      <td>1417.0</td>\n",
              "      <td>2.019054</td>\n",
              "      <td>1.516036</td>\n",
              "      <td>1.0</td>\n",
              "      <td>1.0</td>\n",
              "      <td>1.0</td>\n",
              "      <td>3.0</td>\n",
              "      <td>10.0</td>\n",
              "    </tr>\n",
              "    <tr>\n",
              "      <th>NAME</th>\n",
              "      <td>2816.0</td>\n",
              "      <td>1.539418</td>\n",
              "      <td>0.774281</td>\n",
              "      <td>1.0</td>\n",
              "      <td>1.0</td>\n",
              "      <td>1.0</td>\n",
              "      <td>2.0</td>\n",
              "      <td>9.0</td>\n",
              "    </tr>\n",
              "    <tr>\n",
              "      <th>PHI</th>\n",
              "      <td>4.0</td>\n",
              "      <td>1.500000</td>\n",
              "      <td>0.577350</td>\n",
              "      <td>1.0</td>\n",
              "      <td>1.0</td>\n",
              "      <td>1.5</td>\n",
              "      <td>2.0</td>\n",
              "      <td>2.0</td>\n",
              "    </tr>\n",
              "    <tr>\n",
              "      <th>PROFESSION</th>\n",
              "      <td>286.0</td>\n",
              "      <td>1.395105</td>\n",
              "      <td>0.846775</td>\n",
              "      <td>1.0</td>\n",
              "      <td>1.0</td>\n",
              "      <td>1.0</td>\n",
              "      <td>1.0</td>\n",
              "      <td>6.0</td>\n",
              "    </tr>\n",
              "  </tbody>\n",
              "</table>\n",
              "</div>\n",
              "      <button class=\"colab-df-convert\" onclick=\"convertToInteractive('df-bf0e47e1-3138-452a-8be6-5fe2532dde15')\"\n",
              "              title=\"Convert this dataframe to an interactive table.\"\n",
              "              style=\"display:none;\">\n",
              "        \n",
              "  <svg xmlns=\"http://www.w3.org/2000/svg\" height=\"24px\"viewBox=\"0 0 24 24\"\n",
              "       width=\"24px\">\n",
              "    <path d=\"M0 0h24v24H0V0z\" fill=\"none\"/>\n",
              "    <path d=\"M18.56 5.44l.94 2.06.94-2.06 2.06-.94-2.06-.94-.94-2.06-.94 2.06-2.06.94zm-11 1L8.5 8.5l.94-2.06 2.06-.94-2.06-.94L8.5 2.5l-.94 2.06-2.06.94zm10 10l.94 2.06.94-2.06 2.06-.94-2.06-.94-.94-2.06-.94 2.06-2.06.94z\"/><path d=\"M17.41 7.96l-1.37-1.37c-.4-.4-.92-.59-1.43-.59-.52 0-1.04.2-1.43.59L10.3 9.45l-7.72 7.72c-.78.78-.78 2.05 0 2.83L4 21.41c.39.39.9.59 1.41.59.51 0 1.02-.2 1.41-.59l7.78-7.78 2.81-2.81c.8-.78.8-2.07 0-2.86zM5.41 20L4 18.59l7.72-7.72 1.47 1.35L5.41 20z\"/>\n",
              "  </svg>\n",
              "      </button>\n",
              "      \n",
              "  <style>\n",
              "    .colab-df-container {\n",
              "      display:flex;\n",
              "      flex-wrap:wrap;\n",
              "      gap: 12px;\n",
              "    }\n",
              "\n",
              "    .colab-df-convert {\n",
              "      background-color: #E8F0FE;\n",
              "      border: none;\n",
              "      border-radius: 50%;\n",
              "      cursor: pointer;\n",
              "      display: none;\n",
              "      fill: #1967D2;\n",
              "      height: 32px;\n",
              "      padding: 0 0 0 0;\n",
              "      width: 32px;\n",
              "    }\n",
              "\n",
              "    .colab-df-convert:hover {\n",
              "      background-color: #E2EBFA;\n",
              "      box-shadow: 0px 1px 2px rgba(60, 64, 67, 0.3), 0px 1px 3px 1px rgba(60, 64, 67, 0.15);\n",
              "      fill: #174EA6;\n",
              "    }\n",
              "\n",
              "    [theme=dark] .colab-df-convert {\n",
              "      background-color: #3B4455;\n",
              "      fill: #D2E3FC;\n",
              "    }\n",
              "\n",
              "    [theme=dark] .colab-df-convert:hover {\n",
              "      background-color: #434B5C;\n",
              "      box-shadow: 0px 1px 3px 1px rgba(0, 0, 0, 0.15);\n",
              "      filter: drop-shadow(0px 1px 2px rgba(0, 0, 0, 0.3));\n",
              "      fill: #FFFFFF;\n",
              "    }\n",
              "  </style>\n",
              "\n",
              "      <script>\n",
              "        const buttonEl =\n",
              "          document.querySelector('#df-bf0e47e1-3138-452a-8be6-5fe2532dde15 button.colab-df-convert');\n",
              "        buttonEl.style.display =\n",
              "          google.colab.kernel.accessAllowed ? 'block' : 'none';\n",
              "\n",
              "        async function convertToInteractive(key) {\n",
              "          const element = document.querySelector('#df-bf0e47e1-3138-452a-8be6-5fe2532dde15');\n",
              "          const dataTable =\n",
              "            await google.colab.kernel.invokeFunction('convertToInteractive',\n",
              "                                                     [key], {});\n",
              "          if (!dataTable) return;\n",
              "\n",
              "          const docLinkHtml = 'Like what you see? Visit the ' +\n",
              "            '<a target=\"_blank\" href=https://colab.research.google.com/notebooks/data_table.ipynb>data table notebook</a>'\n",
              "            + ' to learn more about interactive tables.';\n",
              "          element.innerHTML = '';\n",
              "          dataTable['output_type'] = 'display_data';\n",
              "          await google.colab.output.renderOutput(dataTable, element);\n",
              "          const docLink = document.createElement('div');\n",
              "          docLink.innerHTML = docLinkHtml;\n",
              "          element.appendChild(docLink);\n",
              "        }\n",
              "      </script>\n",
              "    </div>\n",
              "  </div>\n",
              "  "
            ]
          },
          "metadata": {},
          "execution_count": 27
        }
      ]
    },
    {
      "cell_type": "code",
      "source": [
        "test_spans = pd.DataFrame.from_records(list(itertools.chain.from_iterable(test_spans)), \n",
        "                                        columns=['tag', 'start_i', 'end_i'])\n",
        "test_spans['span_len'] = test_spans[['start_i', 'end_i']].apply(lambda x: span_length(x[0], x[1]), axis=1)\n",
        "\n",
        "print(\"General span length distribution:\")\n",
        "print(test_spans['span_len'].describe())\n",
        "\n",
        "print(\"\\nBy Tags:\")\n",
        "test_spans.groupby(by='tag')['span_len'].describe()"
      ],
      "metadata": {
        "colab": {
          "base_uri": "https://localhost:8080/",
          "height": 515
        },
        "id": "RsXpUVzeAtDl",
        "outputId": "cd0f6f53-0e74-4bcb-9957-2166fd77e9c7"
      },
      "execution_count": 28,
      "outputs": [
        {
          "output_type": "stream",
          "name": "stdout",
          "text": [
            "General span length distribution:\n",
            "count    4915.000000\n",
            "mean        1.391658\n",
            "std         0.871595\n",
            "min         1.000000\n",
            "25%         1.000000\n",
            "50%         1.000000\n",
            "75%         2.000000\n",
            "max        10.000000\n",
            "Name: span_len, dtype: float64\n",
            "\n",
            "By Tags:\n"
          ]
        },
        {
          "output_type": "execute_result",
          "data": {
            "text/plain": [
              "             count      mean       std  min  25%  50%  75%   max\n",
              "tag                                                             \n",
              "AGE          247.0  1.004049  0.063628  1.0  1.0  1.0  1.0   2.0\n",
              "CONTACT       96.0  1.625000  0.714511  1.0  1.0  2.0  2.0   5.0\n",
              "DATE        2318.0  1.183348  0.728920  1.0  1.0  1.0  1.0  10.0\n",
              "ID           149.0  1.630872  1.187485  1.0  1.0  1.0  2.0  10.0\n",
              "LOCATION     608.0  1.912829  1.330407  1.0  1.0  1.0  3.0   9.0\n",
              "NAME        1252.0  1.562300  0.722008  1.0  1.0  1.0  2.0   6.0\n",
              "PROFESSION   245.0  1.351020  0.819367  1.0  1.0  1.0  1.0   5.0"
            ],
            "text/html": [
              "\n",
              "  <div id=\"df-0e2ecab3-842a-4a09-a2c5-bd1ed9a968ce\">\n",
              "    <div class=\"colab-df-container\">\n",
              "      <div>\n",
              "<style scoped>\n",
              "    .dataframe tbody tr th:only-of-type {\n",
              "        vertical-align: middle;\n",
              "    }\n",
              "\n",
              "    .dataframe tbody tr th {\n",
              "        vertical-align: top;\n",
              "    }\n",
              "\n",
              "    .dataframe thead th {\n",
              "        text-align: right;\n",
              "    }\n",
              "</style>\n",
              "<table border=\"1\" class=\"dataframe\">\n",
              "  <thead>\n",
              "    <tr style=\"text-align: right;\">\n",
              "      <th></th>\n",
              "      <th>count</th>\n",
              "      <th>mean</th>\n",
              "      <th>std</th>\n",
              "      <th>min</th>\n",
              "      <th>25%</th>\n",
              "      <th>50%</th>\n",
              "      <th>75%</th>\n",
              "      <th>max</th>\n",
              "    </tr>\n",
              "    <tr>\n",
              "      <th>tag</th>\n",
              "      <th></th>\n",
              "      <th></th>\n",
              "      <th></th>\n",
              "      <th></th>\n",
              "      <th></th>\n",
              "      <th></th>\n",
              "      <th></th>\n",
              "      <th></th>\n",
              "    </tr>\n",
              "  </thead>\n",
              "  <tbody>\n",
              "    <tr>\n",
              "      <th>AGE</th>\n",
              "      <td>247.0</td>\n",
              "      <td>1.004049</td>\n",
              "      <td>0.063628</td>\n",
              "      <td>1.0</td>\n",
              "      <td>1.0</td>\n",
              "      <td>1.0</td>\n",
              "      <td>1.0</td>\n",
              "      <td>2.0</td>\n",
              "    </tr>\n",
              "    <tr>\n",
              "      <th>CONTACT</th>\n",
              "      <td>96.0</td>\n",
              "      <td>1.625000</td>\n",
              "      <td>0.714511</td>\n",
              "      <td>1.0</td>\n",
              "      <td>1.0</td>\n",
              "      <td>2.0</td>\n",
              "      <td>2.0</td>\n",
              "      <td>5.0</td>\n",
              "    </tr>\n",
              "    <tr>\n",
              "      <th>DATE</th>\n",
              "      <td>2318.0</td>\n",
              "      <td>1.183348</td>\n",
              "      <td>0.728920</td>\n",
              "      <td>1.0</td>\n",
              "      <td>1.0</td>\n",
              "      <td>1.0</td>\n",
              "      <td>1.0</td>\n",
              "      <td>10.0</td>\n",
              "    </tr>\n",
              "    <tr>\n",
              "      <th>ID</th>\n",
              "      <td>149.0</td>\n",
              "      <td>1.630872</td>\n",
              "      <td>1.187485</td>\n",
              "      <td>1.0</td>\n",
              "      <td>1.0</td>\n",
              "      <td>1.0</td>\n",
              "      <td>2.0</td>\n",
              "      <td>10.0</td>\n",
              "    </tr>\n",
              "    <tr>\n",
              "      <th>LOCATION</th>\n",
              "      <td>608.0</td>\n",
              "      <td>1.912829</td>\n",
              "      <td>1.330407</td>\n",
              "      <td>1.0</td>\n",
              "      <td>1.0</td>\n",
              "      <td>1.0</td>\n",
              "      <td>3.0</td>\n",
              "      <td>9.0</td>\n",
              "    </tr>\n",
              "    <tr>\n",
              "      <th>NAME</th>\n",
              "      <td>1252.0</td>\n",
              "      <td>1.562300</td>\n",
              "      <td>0.722008</td>\n",
              "      <td>1.0</td>\n",
              "      <td>1.0</td>\n",
              "      <td>1.0</td>\n",
              "      <td>2.0</td>\n",
              "      <td>6.0</td>\n",
              "    </tr>\n",
              "    <tr>\n",
              "      <th>PROFESSION</th>\n",
              "      <td>245.0</td>\n",
              "      <td>1.351020</td>\n",
              "      <td>0.819367</td>\n",
              "      <td>1.0</td>\n",
              "      <td>1.0</td>\n",
              "      <td>1.0</td>\n",
              "      <td>1.0</td>\n",
              "      <td>5.0</td>\n",
              "    </tr>\n",
              "  </tbody>\n",
              "</table>\n",
              "</div>\n",
              "      <button class=\"colab-df-convert\" onclick=\"convertToInteractive('df-0e2ecab3-842a-4a09-a2c5-bd1ed9a968ce')\"\n",
              "              title=\"Convert this dataframe to an interactive table.\"\n",
              "              style=\"display:none;\">\n",
              "        \n",
              "  <svg xmlns=\"http://www.w3.org/2000/svg\" height=\"24px\"viewBox=\"0 0 24 24\"\n",
              "       width=\"24px\">\n",
              "    <path d=\"M0 0h24v24H0V0z\" fill=\"none\"/>\n",
              "    <path d=\"M18.56 5.44l.94 2.06.94-2.06 2.06-.94-2.06-.94-.94-2.06-.94 2.06-2.06.94zm-11 1L8.5 8.5l.94-2.06 2.06-.94-2.06-.94L8.5 2.5l-.94 2.06-2.06.94zm10 10l.94 2.06.94-2.06 2.06-.94-2.06-.94-.94-2.06-.94 2.06-2.06.94z\"/><path d=\"M17.41 7.96l-1.37-1.37c-.4-.4-.92-.59-1.43-.59-.52 0-1.04.2-1.43.59L10.3 9.45l-7.72 7.72c-.78.78-.78 2.05 0 2.83L4 21.41c.39.39.9.59 1.41.59.51 0 1.02-.2 1.41-.59l7.78-7.78 2.81-2.81c.8-.78.8-2.07 0-2.86zM5.41 20L4 18.59l7.72-7.72 1.47 1.35L5.41 20z\"/>\n",
              "  </svg>\n",
              "      </button>\n",
              "      \n",
              "  <style>\n",
              "    .colab-df-container {\n",
              "      display:flex;\n",
              "      flex-wrap:wrap;\n",
              "      gap: 12px;\n",
              "    }\n",
              "\n",
              "    .colab-df-convert {\n",
              "      background-color: #E8F0FE;\n",
              "      border: none;\n",
              "      border-radius: 50%;\n",
              "      cursor: pointer;\n",
              "      display: none;\n",
              "      fill: #1967D2;\n",
              "      height: 32px;\n",
              "      padding: 0 0 0 0;\n",
              "      width: 32px;\n",
              "    }\n",
              "\n",
              "    .colab-df-convert:hover {\n",
              "      background-color: #E2EBFA;\n",
              "      box-shadow: 0px 1px 2px rgba(60, 64, 67, 0.3), 0px 1px 3px 1px rgba(60, 64, 67, 0.15);\n",
              "      fill: #174EA6;\n",
              "    }\n",
              "\n",
              "    [theme=dark] .colab-df-convert {\n",
              "      background-color: #3B4455;\n",
              "      fill: #D2E3FC;\n",
              "    }\n",
              "\n",
              "    [theme=dark] .colab-df-convert:hover {\n",
              "      background-color: #434B5C;\n",
              "      box-shadow: 0px 1px 3px 1px rgba(0, 0, 0, 0.15);\n",
              "      filter: drop-shadow(0px 1px 2px rgba(0, 0, 0, 0.3));\n",
              "      fill: #FFFFFF;\n",
              "    }\n",
              "  </style>\n",
              "\n",
              "      <script>\n",
              "        const buttonEl =\n",
              "          document.querySelector('#df-0e2ecab3-842a-4a09-a2c5-bd1ed9a968ce button.colab-df-convert');\n",
              "        buttonEl.style.display =\n",
              "          google.colab.kernel.accessAllowed ? 'block' : 'none';\n",
              "\n",
              "        async function convertToInteractive(key) {\n",
              "          const element = document.querySelector('#df-0e2ecab3-842a-4a09-a2c5-bd1ed9a968ce');\n",
              "          const dataTable =\n",
              "            await google.colab.kernel.invokeFunction('convertToInteractive',\n",
              "                                                     [key], {});\n",
              "          if (!dataTable) return;\n",
              "\n",
              "          const docLinkHtml = 'Like what you see? Visit the ' +\n",
              "            '<a target=\"_blank\" href=https://colab.research.google.com/notebooks/data_table.ipynb>data table notebook</a>'\n",
              "            + ' to learn more about interactive tables.';\n",
              "          element.innerHTML = '';\n",
              "          dataTable['output_type'] = 'display_data';\n",
              "          await google.colab.output.renderOutput(dataTable, element);\n",
              "          const docLink = document.createElement('div');\n",
              "          docLink.innerHTML = docLinkHtml;\n",
              "          element.appendChild(docLink);\n",
              "        }\n",
              "      </script>\n",
              "    </div>\n",
              "  </div>\n",
              "  "
            ]
          },
          "metadata": {},
          "execution_count": 28
        }
      ]
    },
    {
      "cell_type": "markdown",
      "source": [
        "**Findings**\n",
        "\n",
        "*   The longest Named Entities are (as quite expected) are referring to names and surnames - `PER` tag.\n",
        "*   Anyway, entities are on average less than 2 tokens, which means that they are mostly simple and do not contain nested Named Entities."
      ],
      "metadata": {
        "id": "bv2a2HXyA1qh"
      }
    }
  ]
}