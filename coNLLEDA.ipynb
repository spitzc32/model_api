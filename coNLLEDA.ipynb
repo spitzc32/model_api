{
  "nbformat": 4,
  "nbformat_minor": 0,
  "metadata": {
    "colab": {
      "provenance": [],
      "collapsed_sections": []
    },
    "kernelspec": {
      "name": "python3",
      "display_name": "Python 3"
    },
    "language_info": {
      "name": "python"
    }
  },
  "cells": [
    {
      "cell_type": "markdown",
      "source": [
        "<h1>Installation and Setup</h1>\n",
        "This is where all installations of third party libraries to require us the dependencies we need.\n",
        "\n"
      ],
      "metadata": {
        "id": "--S0qBE5WKyV"
      }
    },
    {
      "cell_type": "code",
      "source": [
        "! pip install --quiet transformers[torch] datasets seqeval pytorch-lightning torchmetrics==0.6.2\n",
        "! pip install --quiet ipymarkup"
      ],
      "metadata": {
        "colab": {
          "base_uri": "https://localhost:8080/"
        },
        "id": "JqQrA_RP0QmW",
        "outputId": "8ab3e4d6-514a-4b70-ffa8-abae5831474b"
      },
      "execution_count": null,
      "outputs": [
        {
          "output_type": "stream",
          "name": "stdout",
          "text": [
            "\u001b[K     |████████████████████████████████| 4.4 MB 4.4 MB/s \n",
            "\u001b[K     |████████████████████████████████| 362 kB 37.6 MB/s \n",
            "\u001b[K     |████████████████████████████████| 43 kB 1.7 MB/s \n",
            "\u001b[K     |████████████████████████████████| 585 kB 33.3 MB/s \n",
            "\u001b[K     |████████████████████████████████| 332 kB 38.3 MB/s \n",
            "\u001b[K     |████████████████████████████████| 212 kB 39.6 MB/s \n",
            "\u001b[K     |████████████████████████████████| 86 kB 4.6 MB/s \n",
            "\u001b[K     |████████████████████████████████| 140 kB 6.9 MB/s \n",
            "\u001b[K     |████████████████████████████████| 1.1 MB 38.1 MB/s \n",
            "\u001b[K     |████████████████████████████████| 596 kB 37.0 MB/s \n",
            "\u001b[K     |████████████████████████████████| 127 kB 37.0 MB/s \n",
            "\u001b[K     |████████████████████████████████| 144 kB 28.9 MB/s \n",
            "\u001b[K     |████████████████████████████████| 94 kB 1.9 MB/s \n",
            "\u001b[K     |████████████████████████████████| 271 kB 41.4 MB/s \n",
            "\u001b[K     |████████████████████████████████| 6.6 MB 34.1 MB/s \n",
            "\u001b[?25h  Building wheel for seqeval (setup.py) ... \u001b[?25l\u001b[?25hdone\n",
            "\u001b[31mERROR: pip's dependency resolver does not currently take into account all the packages that are installed. This behaviour is the source of the following dependency conflicts.\n",
            "datascience 0.10.6 requires folium==0.2.1, but you have folium 0.8.3 which is incompatible.\u001b[0m\n",
            "  Building wheel for intervaltree (setup.py) ... \u001b[?25l\u001b[?25hdone\n"
          ]
        }
      ]
    },
    {
      "cell_type": "markdown",
      "source": [
        "<h1> Imports</h1>\n",
        "The following tools are what we need to use in order to check the nature of the data under the CoNLL Dataset we downloaded above.\n",
        "\n",
        "<h4>Process</h4>\n",
        "WE define the process based on the features and goals we would like to extract from the Data. The followin visualizations are our goal:\n",
        "\n",
        "*   Identifying the sentence length based on the segmented text\n",
        "*   Identifying the Skewness of each token that are under PHI terms mentioned before and\n",
        "*   Identifying how the grammatical structure affects the labeled PHI term meaning in a sentence, contextual and token level.\n",
        "\n"
      ],
      "metadata": {
        "id": "_fxMenLn01gj"
      }
    },
    {
      "cell_type": "code",
      "source": [
        "import torch\n",
        "import transformers\n",
        "import torchmetrics\n",
        "import pytorch_lightning\n",
        "\n",
        "print(f\"torch: {torch.__version__}\")\n",
        "print(f\"pytorch_lightning: {pytorch_lightning.__version__}\")\n",
        "print(transformers.__version__)\n",
        "print(transformers.__spec__)\n",
        "print(torchmetrics.__version__)"
      ],
      "metadata": {
        "colab": {
          "base_uri": "https://localhost:8080/"
        },
        "id": "2-SGNhL70QwR",
        "outputId": "c1fed570-4fb6-4d2b-e47d-e83d304be615"
      },
      "execution_count": null,
      "outputs": [
        {
          "output_type": "stream",
          "name": "stdout",
          "text": [
            "torch: 1.11.0+cu113\n",
            "pytorch_lightning: 1.6.4\n",
            "4.20.0\n",
            "ModuleSpec(name='transformers', loader=<_frozen_importlib_external.SourceFileLoader object at 0x7f8e682fd5d0>, origin='/usr/local/lib/python3.7/dist-packages/transformers/__init__.py', submodule_search_locations=['/usr/local/lib/python3.7/dist-packages/transformers'])\n",
            "0.6.2\n"
          ]
        }
      ]
    },
    {
      "cell_type": "code",
      "source": [
        "# Visualizations\n",
        "import matplotlib.pyplot as plt\n",
        "import seaborn as sns\n",
        "\n",
        "sns.set_theme(style=\"white\", context=\"talk\")\n",
        "plt.style.use('default')\n",
        "%matplotlib inline"
      ],
      "metadata": {
        "id": "601-qV564fQ8"
      },
      "execution_count": null,
      "outputs": []
    },
    {
      "cell_type": "code",
      "source": [
        "import os\n",
        "import re\n",
        "import gc\n",
        "import sys\n",
        "import random\n",
        "import datetime\n",
        "import itertools\n",
        "import numpy as np\n",
        "import pandas as pd\n",
        "from tqdm import tqdm\n",
        "from pathlib import Path\n",
        "from collections import defaultdict, namedtuple, Counter\n",
        "\n",
        "from typing import (List, Dict, Any, Tuple, Optional, Union)"
      ],
      "metadata": {
        "id": "JnBZQ4trrau6"
      },
      "execution_count": null,
      "outputs": []
    },
    {
      "cell_type": "code",
      "source": [
        "import warnings\n",
        "warnings.filterwarnings(\"ignore\")\n",
        "\n",
        "import logging\n",
        "logging.basicConfig(format='%(levelname)s: %(message)s', level=logging.INFO)"
      ],
      "metadata": {
        "id": "tsKi7PM5rlLZ"
      },
      "execution_count": null,
      "outputs": []
    },
    {
      "cell_type": "markdown",
      "source": [
        "<h2>Mounting Drive In Collab<h2>\n",
        "\n",
        "We are preparing the sets we are going to use in order for us to perform EDA. Since I am experimenting in collab, this is a necessary step to extract and load the files."
      ],
      "metadata": {
        "id": "kD1GkL5WryRs"
      }
    },
    {
      "cell_type": "code",
      "source": [
        "try:\n",
        "    import google.colab\n",
        "    IN_COLAB = True\n",
        "except:\n",
        "    IN_COLAB = False\n",
        "\n",
        "if IN_COLAB:\n",
        "    from google.colab import drive\n",
        "    drive.mount('/content/drive',  force_remount=True)\n",
        "    BASE_DIR = Path(\"/content/drive/MyDrive/NER/\")\n",
        "    DATA_DIR = BASE_DIR / \"data\"\n",
        "    OUTPUT_DIR = BASE_DIR / \"outputs\"\n",
        "    MODEL_CHKP_DIR = BASE_DIR / \"models\""
      ],
      "metadata": {
        "colab": {
          "base_uri": "https://localhost:8080/"
        },
        "id": "jA4XQVI3rxCn",
        "outputId": "4a3d26c6-2da8-40c4-f4dd-7465a66fa320"
      },
      "execution_count": null,
      "outputs": [
        {
          "output_type": "stream",
          "name": "stdout",
          "text": [
            "Mounted at /content/drive\n"
          ]
        }
      ]
    },
    {
      "cell_type": "code",
      "source": [
        "DATA_DIR"
      ],
      "metadata": {
        "colab": {
          "base_uri": "https://localhost:8080/"
        },
        "id": "z3ypUC8E0OBU",
        "outputId": "9816c867-35c7-4a78-8785-47f2254ca9e4"
      },
      "execution_count": null,
      "outputs": [
        {
          "output_type": "execute_result",
          "data": {
            "text/plain": [
              "PosixPath('/content/drive/MyDrive/NER/data')"
            ]
          },
          "metadata": {},
          "execution_count": 7
        }
      ]
    },
    {
      "cell_type": "markdown",
      "source": [
        "## Dataset Summary\n",
        "The shared task of **CoNLL-2003** concerns language-independent named entity recognition. \n",
        "\n",
        "There are 4 types of named entities: \n",
        "* **persons**, \n",
        "* **locations**, \n",
        "* **organizations**, \n",
        "* **names of miscellaneous entities** that do not belong to the previous three groups.\n",
        "\n",
        "The CoNLL-2003 shared task data files contain four columns separated by a single space. Each word has been put on a separate line and there is an empty line after each sentence. \n",
        "\n",
        "#### Columns:\n",
        "1. **Token** - a single word,\n",
        "2. **PoS** - a part-of-speech,\n",
        "3. **SyncTag** - a syntactic chunk tag,\n",
        "4. **NERTag** - the named entity tag\n",
        "\n",
        "#### Other notes:\n",
        "* Dataset uses **IOB1 tagging scheme**, where the `I- prefix` before a tag indicates that the tag is inside a chunk. An `O tag` indicates that a token belongs to no chunk. The `B- prefix` before a tag indicates that the tag is the beginning of a chunk that immediately follows another chunk without O tags between them. It is used only in that case: when a chunk comes after an O tag, the first token of the chunk takes the I- prefix. \n",
        "* `-DOCSTART-` - is a special line that acts as a boundary between two different documents.\n",
        "\n"
      ],
      "metadata": {
        "id": "DywDYvPTzcaS"
      }
    },
    {
      "cell_type": "code",
      "execution_count": null,
      "metadata": {
        "id": "X25zdRbtMBqr",
        "colab": {
          "base_uri": "https://localhost:8080/"
        },
        "outputId": "19810642-7fa7-4688-fe5d-f7e536eb2eca"
      },
      "outputs": [
        {
          "output_type": "stream",
          "name": "stdout",
          "text": [
            "--2022-06-17 09:47:58--  https://raw.githubusercontent.com/synalp/NER/master/corpus/CoNLL-2003/eng.testa\n",
            "Resolving raw.githubusercontent.com (raw.githubusercontent.com)... 185.199.111.133, 185.199.109.133, 185.199.110.133, ...\n",
            "Connecting to raw.githubusercontent.com (raw.githubusercontent.com)|185.199.111.133|:443... connected.\n",
            "HTTP request sent, awaiting response... 200 OK\n",
            "Length: 827012 (808K) [text/plain]\n",
            "Saving to: ‘/content/data/eng.testa’\n",
            "\n",
            "eng.testa           100%[===================>] 807.63K  --.-KB/s    in 0.06s   \n",
            "\n",
            "2022-06-17 09:47:59 (13.7 MB/s) - ‘/content/data/eng.testa’ saved [827012/827012]\n",
            "\n",
            "--2022-06-17 09:47:59--  https://raw.githubusercontent.com/synalp/NER/master/corpus/CoNLL-2003/eng.train\n",
            "Resolving raw.githubusercontent.com (raw.githubusercontent.com)... 185.199.110.133, 185.199.108.133, 185.199.111.133, ...\n",
            "Connecting to raw.githubusercontent.com (raw.githubusercontent.com)|185.199.110.133|:443... connected.\n",
            "HTTP request sent, awaiting response... 200 OK\n",
            "Length: 3281528 (3.1M) [text/plain]\n",
            "Saving to: ‘/content/data/eng.train’\n",
            "\n",
            "eng.train           100%[===================>]   3.13M  11.9MB/s    in 0.3s    \n",
            "\n",
            "2022-06-17 09:48:00 (11.9 MB/s) - ‘/content/data/eng.train’ saved [3281528/3281528]\n",
            "\n",
            "--2022-06-17 09:48:00--  https://raw.githubusercontent.com/synalp/NER/master/corpus/CoNLL-2003/eng.testb\n",
            "Resolving raw.githubusercontent.com (raw.githubusercontent.com)... 185.199.111.133, 185.199.109.133, 185.199.110.133, ...\n",
            "Connecting to raw.githubusercontent.com (raw.githubusercontent.com)|185.199.111.133|:443... connected.\n",
            "HTTP request sent, awaiting response... 200 OK\n",
            "Length: 748096 (731K) [text/plain]\n",
            "Saving to: ‘/content/data/eng.testb’\n",
            "\n",
            "eng.testb           100%[===================>] 730.56K  --.-KB/s    in 0.06s   \n",
            "\n",
            "2022-06-17 09:48:01 (12.9 MB/s) - ‘/content/data/eng.testb’ saved [748096/748096]\n",
            "\n"
          ]
        }
      ],
      "source": [
        "!wget https://raw.githubusercontent.com/synalp/NER/master/corpus/CoNLL-2003/eng.testa -P /content/data\n",
        "!wget https://raw.githubusercontent.com/synalp/NER/master/corpus/CoNLL-2003/eng.train -P /content/data\n",
        "\n",
        "!wget https://raw.githubusercontent.com/synalp/NER/master/corpus/CoNLL-2003/eng.testb -P /content/data"
      ]
    },
    {
      "cell_type": "code",
      "source": [
        "if DATA_DIR.exists():\n",
        "    all_files = list(DATA_DIR.glob(\"*.*\"))\n",
        "    print(f\"In Dataset dir found {len(all_files)} files:\")\n",
        "    for fn in all_files:\n",
        "        print(f\"\\t{fn.name}\")\n",
        "\n",
        "train_fn = DATA_DIR / \"eng.train\"\n",
        "val_fn = DATA_DIR / \"eng.testa\""
      ],
      "metadata": {
        "colab": {
          "base_uri": "https://localhost:8080/"
        },
        "id": "wbCQM7e5zp4B",
        "outputId": "89d5146a-03f2-40f0-ce11-8d50aaba8985"
      },
      "execution_count": null,
      "outputs": [
        {
          "output_type": "stream",
          "name": "stdout",
          "text": [
            "In Dataset dir found 3 files:\n",
            "\teng.train\n",
            "\teng.testa\n",
            "\teng.testb\n"
          ]
        }
      ]
    },
    {
      "cell_type": "code",
      "source": [
        "class TextData:\n",
        "    \"\"\" Representation of single sentence/text and it's attributes. \"\"\"\n",
        "\n",
        "    def __init__(self, tokens: List[str], \n",
        "                 ner_tags: List[str],\n",
        "                 pos_tags: List[str] = None, \n",
        "                 sync_tags: List[str] = None) -> None:\n",
        "        self.tokens = tokens\n",
        "        self.ner_tags = ner_tags\n",
        "        self.pos_tags = pos_tags\n",
        "        self.sync_tags = sync_tags\n",
        "        self.spans = None\n",
        "    \n",
        "    def __str__(self) -> str:\n",
        "        s = f\"Tokens: {self.tokens},\\n\"\n",
        "        s += f\"NER tags: {self.ner_tags},\\n\"\n",
        "        s += f\"Sync tags: {self.sync_tags},\\n\"\n",
        "        s += f\"POS tags: {self.pos_tags}.\"\n",
        "        return s\n",
        "    \n",
        "    def set_spans(self, spans: List[List[int]]):\n",
        "        \"\"\"\n",
        "        Initialize spans bondaries in the tokens sequence.\n",
        "        Spans are `inclusive`.\n",
        "        e.t. [start_i, end_i], not (start_i, end_i) !\n",
        "        \"\"\"\n",
        "        self.spans = spans"
      ],
      "metadata": {
        "id": "gyhkDZqX1waj"
      },
      "execution_count": null,
      "outputs": []
    },
    {
      "cell_type": "code",
      "source": [
        "def split_tag(span_tag: str):\n",
        "    \"\"\"\n",
        "    Split span tag into IOBES prefix and chunk_type\n",
        "    e.g. \n",
        "    B-PER -> (B, PER)\n",
        "    O -> (O, None)\n",
        "    \"\"\"\n",
        "    if span_tag == 'O':\n",
        "        return ('O', None)\n",
        "    return span_tag.split('-', maxsplit=1)\n",
        "\n",
        "def _is_doc_start(line: str) -> bool:\n",
        "    if line.strip().startswith(\"-DOCSTART-\"):\n",
        "        return True\n",
        "    return False\n",
        "\n",
        "def _is_divider(line: str) -> bool:\n",
        "    empty_line = line.strip() == ''\n",
        "    if empty_line:\n",
        "        return True\n",
        "    return False\n",
        "\n",
        "def read_conllu_data(data_fn: str):\n",
        "    dataset = []\n",
        "\n",
        "    with open(str(data_fn), 'rt') as f:\n",
        "        for is_divider, lines in itertools.groupby(f, _is_divider):\n",
        "            lines = list(lines)\n",
        "            if is_divider or not len(lines[0]):\n",
        "                continue\n",
        "            if _is_doc_start(lines[0]):\n",
        "                continue\n",
        "            # fields of data\n",
        "            fields = [line.strip().split() for line in lines]\n",
        "            # data as list: [[tokens], [pos_tags], [sync_tags], [ner_tags]]\n",
        "            fields = [list(field) for field in zip(*fields)]  \n",
        "            dataset.append(TextData(tokens=fields[0],\n",
        "                                    pos_tags=fields[1],\n",
        "                                    sync_tags=fields[2],\n",
        "                                    ner_tags=fields[3]))\n",
        "    return dataset"
      ],
      "metadata": {
        "id": "gtxJsBYL18Fv"
      },
      "execution_count": null,
      "outputs": []
    },
    {
      "cell_type": "code",
      "source": [
        "train_data = read_conllu_data(str(train_fn))\n",
        "test_data = read_conllu_data(str(val_fn))\n",
        "\n",
        "print(f\"Train data contains: {len(train_data)} texts and total {sum([len(d.tokens) for d in train_data])} tokens\")\n",
        "print(f\"Val data contains: {len(test_data)} texts and total {sum([len(d.tokens) for d in test_data])} tokens\")"
      ],
      "metadata": {
        "colab": {
          "base_uri": "https://localhost:8080/"
        },
        "id": "XoqNizT619gb",
        "outputId": "a0450f64-04b7-468c-a465-083decf62204"
      },
      "execution_count": null,
      "outputs": [
        {
          "output_type": "stream",
          "name": "stdout",
          "text": [
            "Train data contains: 14041 texts and total 203621 tokens\n",
            "Val data contains: 3250 texts and total 51362 tokens\n"
          ]
        }
      ]
    },
    {
      "cell_type": "code",
      "source": [
        "train_sentences_lens = [len(sent.tokens) for sent in train_data]\n",
        "test_sentences_lens = [len(sent.tokens) for sent in test_data]"
      ],
      "metadata": {
        "id": "7qmc_0XR2eOs"
      },
      "execution_count": null,
      "outputs": []
    },
    {
      "cell_type": "code",
      "source": [
        "train_sentences_lens = [sent.tokens for sent in train_data] \n",
        "test_sentences_lens = [sent.tokens for sent in test_data]\n",
        "\n",
        "print(train_sentences_lens[0], train_sentences_lens[0])"
      ],
      "metadata": {
        "colab": {
          "base_uri": "https://localhost:8080/"
        },
        "id": "JiTSHAvLDvpM",
        "outputId": "ea09c716-9272-43c1-ea42-c62a4d3e901c"
      },
      "execution_count": null,
      "outputs": [
        {
          "output_type": "stream",
          "name": "stdout",
          "text": [
            "['EU', 'rejects', 'German', 'call', 'to', 'boycott', 'British', 'lamb', '.'] ['EU', 'rejects', 'German', 'call', 'to', 'boycott', 'British', 'lamb', '.']\n"
          ]
        }
      ]
    },
    {
      "cell_type": "markdown",
      "source": [
        "<h2>Comparison Of Sentence Lengths</h2>\n",
        "As stated before, we will compare the  mean of the sentence lengths of the dataset."
      ],
      "metadata": {
        "id": "TiG1xcgT3rXE"
      }
    },
    {
      "cell_type": "code",
      "source": [
        "# Training Data\n",
        "plt.figure(figsize=(10, 6))\n",
        "d = sns.histplot(data=train_sentences_lens, kde=True)\n",
        "d.set_ylabel(\"Num. sentences\")\n",
        "d.set_xlabel(\"Sentence length (Num. tokens)\")\n",
        "_ = d.set_title(\"Train Dataset sentences length\")\\\n",
        "\n",
        "print(f\"Train Dataset sentences length distributions:\")\n",
        "print(pd.Series(train_sentences_lens).describe())"
      ],
      "metadata": {
        "colab": {
          "base_uri": "https://localhost:8080/",
          "height": 578
        },
        "id": "XOToblFa2XHu",
        "outputId": "06a38965-04ba-4a07-966e-d37c445d9d0f"
      },
      "execution_count": null,
      "outputs": [
        {
          "output_type": "stream",
          "name": "stdout",
          "text": [
            "Train Dataset sentences length distributions:\n",
            "count    14041.000000\n",
            "mean        14.501887\n",
            "std         11.602756\n",
            "min          1.000000\n",
            "25%          6.000000\n",
            "50%         10.000000\n",
            "75%         22.000000\n",
            "max        113.000000\n",
            "dtype: float64\n"
          ]
        },
        {
          "output_type": "display_data",
          "data": {
            "text/plain": [
              "<Figure size 720x432 with 1 Axes>"
            ],
            "image/png": "[encoded data removed]"
          },
          "metadata": {
            "needs_background": "light"
          }
        }
      ]
    },
    {
      "cell_type": "code",
      "source": [
        "# On validation data\n",
        "plt.figure(figsize=(10, 6))\n",
        "d = sns.histplot(data=test_sentences_lens, kde=True)\n",
        "d.set_ylabel(\"Num. sentences\")\n",
        "d.set_xlabel(\"Sentence length (Num. tokens)\")\n",
        "_ = d.set_title(\"Test Dataset sentences length\")\\\n",
        "\n",
        "print(f\"Test Dataset sentences length distributions:\")\n",
        "print(pd.Series(test_sentences_lens).describe())"
      ],
      "metadata": {
        "colab": {
          "base_uri": "https://localhost:8080/",
          "height": 578
        },
        "id": "Ke1mQRPW4Hx0",
        "outputId": "3462a7c6-0dea-45f7-d09a-aa1be0a15c6d"
      },
      "execution_count": null,
      "outputs": [
        {
          "output_type": "stream",
          "name": "stdout",
          "text": [
            "Test Dataset sentences length distributions:\n",
            "count    3250.000000\n",
            "mean       15.803692\n",
            "std        12.603389\n",
            "min         1.000000\n",
            "25%         7.000000\n",
            "50%        11.000000\n",
            "75%        24.000000\n",
            "max       109.000000\n",
            "dtype: float64\n"
          ]
        },
        {
          "output_type": "display_data",
          "data": {
            "text/plain": [
              "<Figure size 720x432 with 1 Axes>"
            ],
            "image/png": "[encoded data removed]"
          },
          "metadata": {
            "needs_background": "light"
          }
        }
      ]
    },
    {
      "cell_type": "markdown",
      "source": [
        "**Findings**\n",
        "\n",
        "\n",
        "*   Validation dataset's sentences are a bit more longer than the sentences in the training data at mean value. However this point is not very critical, cause difference is not very high: 14.5 vs. 15.5\n"
      ],
      "metadata": {
        "id": "urLjDrnc4WRv"
      }
    },
    {
      "cell_type": "markdown",
      "source": [
        "<h2>Tag Distribution: </h2>\n",
        "Checking the Tag Distribution given the NER-tags in the dataset"
      ],
      "metadata": {
        "id": "gBBCztUy6XdS"
      }
    },
    {
      "cell_type": "code",
      "source": [
        "def ner_tags_distribution(text_data: List[TextData]) -> Dict[str, Any]:\n",
        "    return Counter(list(itertools.chain.from_iterable([text.ner_tags for text in text_data]))).most_common()\n",
        "\n",
        "def ner_tags_distribution_splitted(text_data: List[TextData]) -> Dict[str, Any]:\n",
        "    tags_ = [split_tag(tag) for text in text_data for tag in text.ner_tags]\n",
        "    return Counter([tag[0] if tag[1] is None else tag[1] for tag in tags_ ]).most_common()"
      ],
      "metadata": {
        "id": "L79KVicD4SdX"
      },
      "execution_count": null,
      "outputs": []
    },
    {
      "cell_type": "code",
      "source": [
        "# Calculate separately\n",
        "\n",
        "# Tags with prefixes: B- and I-\n",
        "train_ner_tags_dist = pd.DataFrame.from_records(ner_tags_distribution(train_data), \n",
        "                                                columns=['tag', 'cnt'])\n",
        "val_ner_tags_dist = pd.DataFrame.from_records(ner_tags_distribution(val_data), \n",
        "                                              columns=['tag', 'cnt'])\n",
        "# Tags without prefixes\n",
        "train_ner_tags_spl_dist = pd.DataFrame.from_records(ner_tags_distribution_splitted(train_data), \n",
        "                                                columns=['tag', 'cnt'])\n",
        "val_ner_tags_spl_dist = pd.DataFrame.from_records(ner_tags_distribution_splitted(val_data), \n",
        "                                              columns=['tag', 'cnt'])"
      ],
      "metadata": {
        "id": "JNYF9oJN4dn4"
      },
      "execution_count": null,
      "outputs": []
    },
    {
      "cell_type": "code",
      "source": [
        "# Visualize with prefixes\n",
        "fig, axes = plt.subplots(1, 2, sharex=True, figsize=(16, 8))\n",
        "\n",
        "axes[0].set_title('Train Dataset')\n",
        "sns.barplot(data=train_ner_tags_dist, y=\"tag\", x='cnt', ax=axes[0])\n",
        "axes[0].set_ylabel(\"Num. tags\")\n",
        "axes[0].set_xlabel(\"Tags\")\n",
        "\n",
        "sum_train_tags = sum([p.get_width() for p in axes[0].patches])\n",
        "for p in axes[0].patches:\n",
        "    axes[0].annotate(f\"{int(p.get_width())}\\n({round(100*(p.get_width()/sum_train_tags), 2)}%)\",\n",
        "                     xy=(p.get_width(), p.get_y()+p.get_height()/2),\n",
        "            xytext=(5, 0), textcoords='offset points', ha=\"left\", va=\"center\")\n",
        "\n",
        "axes[1].set_title('Validation Dataset')\n",
        "sns.barplot(data=val_ner_tags_dist, y=\"tag\", x='cnt', ax=axes[1])\n",
        "axes[1].set_ylabel(\"Num. tags\")\n",
        "axes[1].set_xlabel(\"Tags\")\n",
        "\n",
        "sum_val_tags = sum([p.get_width() for p in axes[1].patches])\n",
        "for p in axes[1].patches:\n",
        "    axes[1].annotate(f\"{int(p.get_width())}\\n({round(100*(p.get_width()/sum_val_tags), 2)}%)\", \n",
        "                     xy=(p.get_width(), p.get_y()+p.get_height()/2),\n",
        "            xytext=(5, 0), textcoords='offset points', ha=\"left\", va=\"center\")\n",
        "\n",
        "plt.show()"
      ],
      "metadata": {
        "colab": {
          "base_uri": "https://localhost:8080/",
          "height": 358
        },
        "id": "MzXWe2kv4hPq",
        "outputId": "dec5f39e-7a33-4296-b289-1cec249f75b0"
      },
      "execution_count": null,
      "outputs": [
        {
          "output_type": "display_data",
          "data": {
            "text/plain": [
              "<Figure size 1152x576 with 2 Axes>"
            ],
            "image/png": "[encoded data removed]"
          },
          "metadata": {
            "needs_background": "light"
          }
        }
      ]
    },
    {
      "cell_type": "code",
      "source": [
        "ner_tags_dist = train_ner_tags_spl_dist.merge(val_ner_tags_spl_dist, \n",
        "                                              how='outer', on='tag', \n",
        "                                              suffixes=['_train', '_val']).fillna(0)\n",
        "ner_tags_dist['cnt'] = (ner_tags_dist['cnt_train'] + ner_tags_dist['cnt_val']).astype('int')\n",
        "entities_types = ner_tags_dist['tag'].unique().tolist()\n",
        "print(f\"No-prefixes entities types: {entities_types}\")\n",
        "\n",
        "ner_tags_dist = train_ner_tags_dist.merge(val_ner_tags_dist, \n",
        "                                          how='outer', on='tag', \n",
        "                                          suffixes=['_train', '_val']).fillna(0)\n",
        "ner_tags_dist['cnt'] = (ner_tags_dist['cnt_train'] + ner_tags_dist['cnt_val']).astype('int')\n",
        "pref_entities_types = ner_tags_dist['tag'].unique().tolist()\n",
        "print(f\"With-prefixes entities types: {pref_entities_types}\")"
      ],
      "metadata": {
        "colab": {
          "base_uri": "https://localhost:8080/"
        },
        "id": "zq5JYypk4uFJ",
        "outputId": "f719f775-85e5-403e-c3c0-152f4d5d8140"
      },
      "execution_count": null,
      "outputs": [
        {
          "output_type": "stream",
          "name": "stdout",
          "text": [
            "No-prefixes entities types: ['O', 'PER', 'ORG', 'LOC', 'MISC']\n",
            "With-prefixes entities types: ['O', 'I-PER', 'I-ORG', 'I-LOC', 'I-MISC', 'B-MISC', 'B-ORG', 'B-LOC']\n"
          ]
        }
      ]
    },
    {
      "cell_type": "markdown",
      "source": [
        "**Findings**\n",
        "\n",
        "*   There is **a strong imbalance of classes**, and it does not make sense to take into account the OUT label at all in quality estimation of the model.\n",
        "*   Another option is to augment our training dataset with new samples for NE classes: ``` [`PER`, `ORG`, `LOC`, `MISK`] ```"
      ],
      "metadata": {
        "id": "Ah2ug3zB6R3N"
      }
    },
    {
      "cell_type": "markdown",
      "source": [
        "#### Spans of Named Entities\n",
        "\n",
        "Named Entities  in texts are usually represented as contiguous spans of tokens, so let's discover **lengths distribution** of them and **average number of spans** in each sentence.\n",
        "\n",
        "Let's select them and print some examples of them: "
      ],
      "metadata": {
        "id": "jSe111ap6l3R"
      }
    },
    {
      "cell_type": "code",
      "source": [
        "n_examples = 5\n",
        "entities_examples = dict.fromkeys([t for t in entities_types if t != \"O\"])\n",
        "\n",
        "for ent_name in [t for t in entities_types if t != \"O\"]:\n",
        "    n_found = 0\n",
        "    found_spans = []\n",
        "    for d in train_data:\n",
        "        if ent_name in np.unique([tag.split(\"-\")[-1] for tag in d.ner_tags]):\n",
        "            span_tokens = []\n",
        "            start_i = d.ner_tags.index(f\"I-{ent_name}\")  # for IOB1 tagging\n",
        "            for i, tag in enumerate(d.ner_tags[start_i:]):\n",
        "                if tag in [\"O\", \"B\"]:  # for IOB1 tagging\n",
        "                    break\n",
        "                span_tokens.append(d.tokens[start_i+i])\n",
        "            found_spans.append(\" \".join(span_tokens))\n",
        "            n_found += 1\n",
        "            if n_found > n_examples:\n",
        "                break\n",
        "    entities_examples[ent_name] = found_spans\n",
        "\n",
        "for ent, exs in entities_examples.items():\n",
        "    print(f\"{ent}:\")\n",
        "    for e in exs:\n",
        "        print(f\"\\t{e}\")"
      ],
      "metadata": {
        "colab": {
          "base_uri": "https://localhost:8080/"
        },
        "id": "-2fbdVCN6T1c",
        "outputId": "b08acd77-98d5-4a05-e60e-2a4ac406ab76"
      },
      "execution_count": null,
      "outputs": [
        {
          "output_type": "stream",
          "name": "stdout",
          "text": [
            "PER:\n",
            "\tPeter Blackburn\n",
            "\tWerner Zwingmann\n",
            "\tNikolaus van der Pas\n",
            "\tFranz Fischler\n",
            "\tFischler\n",
            "\tFischler\n",
            "ORG:\n",
            "\tEU\n",
            "\tEuropean Commission\n",
            "\tEuropean Union\n",
            "\tCommission\n",
            "\tEuropean Union\n",
            "\tEU\n",
            "LOC:\n",
            "\tBRUSSELS\n",
            "\tGermany\n",
            "\tBritain\n",
            "\tFrance\n",
            "\tEurope\n",
            "\tGermany\n",
            "MISC:\n",
            "\tGerman\n",
            "\tGerman\n",
            "\tEU-wide\n",
            "\tSpanish\n",
            "\tBSE\n",
            "\tBritish\n"
          ]
        }
      ]
    },
    {
      "cell_type": "code",
      "source": [
        "def select_spans_IOB1(text_data: List[TextData]) -> List[List[int]]:\n",
        "    all_spans = []\n",
        "    \n",
        "    # iterate over the texts\n",
        "    for d in text_data:\n",
        "        spans = []\n",
        "        cur_tag = None\n",
        "        cur_start = None\n",
        "        # iterate over the tags\n",
        "        for tag_i, tag in enumerate(d.ner_tags):\n",
        "            tag_pos = tag[0]  # tag `position`\n",
        "            if tag_pos == 'B':\n",
        "                # save previous span, if exists\n",
        "                if cur_tag is not None:\n",
        "                    spans.append([cur_tag, cur_start, tag_i - 1])\n",
        "                cur_start = tag_i  # new tag starts\n",
        "                cur_tag = tag[2:]  # tag `name`\n",
        "            elif tag_pos == 'I':\n",
        "                # new tag starts\n",
        "                if cur_tag is None: \n",
        "                    cur_start = tag_i  # new tag starts\n",
        "                    cur_tag = tag[2:]  # tag `name`\n",
        "            elif tag_pos == 'O':\n",
        "                # span finished, saving\n",
        "                if cur_tag is not None:\n",
        "                    spans.append([cur_tag, cur_start, tag_i - 1])\n",
        "                    cur_tag = None\n",
        "                    cur_start = None\n",
        "        # save last span    \n",
        "        if cur_tag is not None:\n",
        "            spans.append([cur_tag, cur_start, tag_i + 1])\n",
        "\n",
        "        # set to current sequence excluding tag type\n",
        "        # d.set_spans([s[1:] for s in spans])\n",
        "        all_spans.append(spans)\n",
        "\n",
        "    return all_spans\n",
        "\n",
        "def span_length(start_i: int, end_i: int) -> int:\n",
        "    \"\"\" \n",
        "    Assumes inclusive span bondaries. \n",
        "    \"\"\"\n",
        "    return end_i - start_i + 1"
      ],
      "metadata": {
        "id": "ARO1VMz_AlFO"
      },
      "execution_count": null,
      "outputs": []
    },
    {
      "cell_type": "code",
      "source": [
        "# Retrieve spans of NE from train and val datasets\n",
        "train_spans = select_spans_IOB1(train_data)\n",
        "val_spans = select_spans_IOB1(val_data)\n",
        "\n",
        "print(f\"Train data contains: {sum([len(s) for s in train_spans])} NE spans.\")\n",
        "print(f\"Val data contains: {sum([len(s) for s in val_spans])} NE spans.\")"
      ],
      "metadata": {
        "colab": {
          "base_uri": "https://localhost:8080/"
        },
        "id": "dcEgLFH8AnNj",
        "outputId": "1b11a4ed-801b-4ec7-b794-8d8af59b8a9a"
      },
      "execution_count": null,
      "outputs": [
        {
          "output_type": "stream",
          "name": "stdout",
          "text": [
            "Train data contains: 23326 NE spans.\n",
            "Val data contains: 5902 NE spans.\n"
          ]
        }
      ]
    },
    {
      "cell_type": "code",
      "source": [
        "# Train spans\n",
        "train_spans = pd.DataFrame.from_records(list(itertools.chain.from_iterable(train_spans)), \n",
        "                                        columns=['tag', 'start_i', 'end_i'])\n",
        "train_spans['span_len'] = train_spans[['start_i', 'end_i']].apply(lambda x: span_length(x[0], x[1]), axis=1)\n",
        "\n",
        "print(\"General span length distribution:\")\n",
        "print(train_spans['span_len'].describe())\n",
        "\n",
        "print(\"\\nBy Tags:\")\n",
        "train_spans.groupby(by='tag')['span_len'].describe()"
      ],
      "metadata": {
        "colab": {
          "base_uri": "https://localhost:8080/",
          "height": 414
        },
        "id": "FgegKKJ8Apmf",
        "outputId": "2bbbbfb4-b213-4642-f606-6a8cf32e649d"
      },
      "execution_count": null,
      "outputs": [
        {
          "output_type": "stream",
          "name": "stdout",
          "text": [
            "General span length distribution:\n",
            "count    23326.000000\n",
            "mean         1.490225\n",
            "std          0.739609\n",
            "min          1.000000\n",
            "25%          1.000000\n",
            "50%          1.000000\n",
            "75%          2.000000\n",
            "max         10.000000\n",
            "Name: span_len, dtype: float64\n",
            "\n",
            "By Tags:\n"
          ]
        },
        {
          "output_type": "execute_result",
          "data": {
            "text/plain": [
              "       count      mean       std  min  25%  50%  75%   max\n",
              "tag                                                       \n",
              "LOC   7125.0  1.190737  0.480061  1.0  1.0  1.0  1.0  10.0\n",
              "MISC  3398.0  1.439082  0.808202  1.0  1.0  1.0  2.0   7.0\n",
              "ORG   6271.0  1.617605  0.942275  1.0  1.0  1.0  2.0  10.0\n",
              "PER   6532.0  1.721219  0.584773  1.0  1.0  2.0  2.0   6.0"
            ],
            "text/html": [
              "\n",
              "  <div id=\"df-669f2bc9-a9d1-49f5-a521-d5fb2d5947b1\">\n",
              "    <div class=\"colab-df-container\">\n",
              "      <div>\n",
              "<style scoped>\n",
              "    .dataframe tbody tr th:only-of-type {\n",
              "        vertical-align: middle;\n",
              "    }\n",
              "\n",
              "    .dataframe tbody tr th {\n",
              "        vertical-align: top;\n",
              "    }\n",
              "\n",
              "    .dataframe thead th {\n",
              "        text-align: right;\n",
              "    }\n",
              "</style>\n",
              "<table border=\"1\" class=\"dataframe\">\n",
              "  <thead>\n",
              "    <tr style=\"text-align: right;\">\n",
              "      <th></th>\n",
              "      <th>count</th>\n",
              "      <th>mean</th>\n",
              "      <th>std</th>\n",
              "      <th>min</th>\n",
              "      <th>25%</th>\n",
              "      <th>50%</th>\n",
              "      <th>75%</th>\n",
              "      <th>max</th>\n",
              "    </tr>\n",
              "    <tr>\n",
              "      <th>tag</th>\n",
              "      <th></th>\n",
              "      <th></th>\n",
              "      <th></th>\n",
              "      <th></th>\n",
              "      <th></th>\n",
              "      <th></th>\n",
              "      <th></th>\n",
              "      <th></th>\n",
              "    </tr>\n",
              "  </thead>\n",
              "  <tbody>\n",
              "    <tr>\n",
              "      <th>LOC</th>\n",
              "      <td>7125.0</td>\n",
              "      <td>1.190737</td>\n",
              "      <td>0.480061</td>\n",
              "      <td>1.0</td>\n",
              "      <td>1.0</td>\n",
              "      <td>1.0</td>\n",
              "      <td>1.0</td>\n",
              "      <td>10.0</td>\n",
              "    </tr>\n",
              "    <tr>\n",
              "      <th>MISC</th>\n",
              "      <td>3398.0</td>\n",
              "      <td>1.439082</td>\n",
              "      <td>0.808202</td>\n",
              "      <td>1.0</td>\n",
              "      <td>1.0</td>\n",
              "      <td>1.0</td>\n",
              "      <td>2.0</td>\n",
              "      <td>7.0</td>\n",
              "    </tr>\n",
              "    <tr>\n",
              "      <th>ORG</th>\n",
              "      <td>6271.0</td>\n",
              "      <td>1.617605</td>\n",
              "      <td>0.942275</td>\n",
              "      <td>1.0</td>\n",
              "      <td>1.0</td>\n",
              "      <td>1.0</td>\n",
              "      <td>2.0</td>\n",
              "      <td>10.0</td>\n",
              "    </tr>\n",
              "    <tr>\n",
              "      <th>PER</th>\n",
              "      <td>6532.0</td>\n",
              "      <td>1.721219</td>\n",
              "      <td>0.584773</td>\n",
              "      <td>1.0</td>\n",
              "      <td>1.0</td>\n",
              "      <td>2.0</td>\n",
              "      <td>2.0</td>\n",
              "      <td>6.0</td>\n",
              "    </tr>\n",
              "  </tbody>\n",
              "</table>\n",
              "</div>\n",
              "      <button class=\"colab-df-convert\" onclick=\"convertToInteractive('df-669f2bc9-a9d1-49f5-a521-d5fb2d5947b1')\"\n",
              "              title=\"Convert this dataframe to an interactive table.\"\n",
              "              style=\"display:none;\">\n",
              "        \n",
              "  <svg xmlns=\"http://www.w3.org/2000/svg\" height=\"24px\"viewBox=\"0 0 24 24\"\n",
              "       width=\"24px\">\n",
              "    <path d=\"M0 0h24v24H0V0z\" fill=\"none\"/>\n",
              "    <path d=\"M18.56 5.44l.94 2.06.94-2.06 2.06-.94-2.06-.94-.94-2.06-.94 2.06-2.06.94zm-11 1L8.5 8.5l.94-2.06 2.06-.94-2.06-.94L8.5 2.5l-.94 2.06-2.06.94zm10 10l.94 2.06.94-2.06 2.06-.94-2.06-.94-.94-2.06-.94 2.06-2.06.94z\"/><path d=\"M17.41 7.96l-1.37-1.37c-.4-.4-.92-.59-1.43-.59-.52 0-1.04.2-1.43.59L10.3 9.45l-7.72 7.72c-.78.78-.78 2.05 0 2.83L4 21.41c.39.39.9.59 1.41.59.51 0 1.02-.2 1.41-.59l7.78-7.78 2.81-2.81c.8-.78.8-2.07 0-2.86zM5.41 20L4 18.59l7.72-7.72 1.47 1.35L5.41 20z\"/>\n",
              "  </svg>\n",
              "      </button>\n",
              "      \n",
              "  <style>\n",
              "    .colab-df-container {\n",
              "      display:flex;\n",
              "      flex-wrap:wrap;\n",
              "      gap: 12px;\n",
              "    }\n",
              "\n",
              "    .colab-df-convert {\n",
              "      background-color: #E8F0FE;\n",
              "      border: none;\n",
              "      border-radius: 50%;\n",
              "      cursor: pointer;\n",
              "      display: none;\n",
              "      fill: #1967D2;\n",
              "      height: 32px;\n",
              "      padding: 0 0 0 0;\n",
              "      width: 32px;\n",
              "    }\n",
              "\n",
              "    .colab-df-convert:hover {\n",
              "      background-color: #E2EBFA;\n",
              "      box-shadow: 0px 1px 2px rgba(60, 64, 67, 0.3), 0px 1px 3px 1px rgba(60, 64, 67, 0.15);\n",
              "      fill: #174EA6;\n",
              "    }\n",
              "\n",
              "    [theme=dark] .colab-df-convert {\n",
              "      background-color: #3B4455;\n",
              "      fill: #D2E3FC;\n",
              "    }\n",
              "\n",
              "    [theme=dark] .colab-df-convert:hover {\n",
              "      background-color: #434B5C;\n",
              "      box-shadow: 0px 1px 3px 1px rgba(0, 0, 0, 0.15);\n",
              "      filter: drop-shadow(0px 1px 2px rgba(0, 0, 0, 0.3));\n",
              "      fill: #FFFFFF;\n",
              "    }\n",
              "  </style>\n",
              "\n",
              "      <script>\n",
              "        const buttonEl =\n",
              "          document.querySelector('#df-669f2bc9-a9d1-49f5-a521-d5fb2d5947b1 button.colab-df-convert');\n",
              "        buttonEl.style.display =\n",
              "          google.colab.kernel.accessAllowed ? 'block' : 'none';\n",
              "\n",
              "        async function convertToInteractive(key) {\n",
              "          const element = document.querySelector('#df-669f2bc9-a9d1-49f5-a521-d5fb2d5947b1');\n",
              "          const dataTable =\n",
              "            await google.colab.kernel.invokeFunction('convertToInteractive',\n",
              "                                                     [key], {});\n",
              "          if (!dataTable) return;\n",
              "\n",
              "          const docLinkHtml = 'Like what you see? Visit the ' +\n",
              "            '<a target=\"_blank\" href=https://colab.research.google.com/notebooks/data_table.ipynb>data table notebook</a>'\n",
              "            + ' to learn more about interactive tables.';\n",
              "          element.innerHTML = '';\n",
              "          dataTable['output_type'] = 'display_data';\n",
              "          await google.colab.output.renderOutput(dataTable, element);\n",
              "          const docLink = document.createElement('div');\n",
              "          docLink.innerHTML = docLinkHtml;\n",
              "          element.appendChild(docLink);\n",
              "        }\n",
              "      </script>\n",
              "    </div>\n",
              "  </div>\n",
              "  "
            ]
          },
          "metadata": {},
          "execution_count": 42
        }
      ]
    },
    {
      "cell_type": "code",
      "source": [
        "val_spans = pd.DataFrame.from_records(list(itertools.chain.from_iterable(val_spans)), \n",
        "                                        columns=['tag', 'start_i', 'end_i'])\n",
        "val_spans['span_len'] = val_spans[['start_i', 'end_i']].apply(lambda x: span_length(x[0], x[1]), axis=1)\n",
        "\n",
        "print(\"General span length distribution:\")\n",
        "print(val_spans['span_len'].describe())\n",
        "\n",
        "print(\"\\nBy Tags:\")\n",
        "val_spans.groupby(by='tag')['span_len'].describe()"
      ],
      "metadata": {
        "colab": {
          "base_uri": "https://localhost:8080/",
          "height": 414
        },
        "id": "RsXpUVzeAtDl",
        "outputId": "b6ae1789-953b-4f6f-8948-61707bab2cad"
      },
      "execution_count": null,
      "outputs": [
        {
          "output_type": "stream",
          "name": "stdout",
          "text": [
            "General span length distribution:\n",
            "count    5902.000000\n",
            "mean        1.482379\n",
            "std         0.743915\n",
            "min         1.000000\n",
            "25%         1.000000\n",
            "50%         1.000000\n",
            "75%         2.000000\n",
            "max        10.000000\n",
            "Name: span_len, dtype: float64\n",
            "\n",
            "By Tags:\n"
          ]
        },
        {
          "output_type": "execute_result",
          "data": {
            "text/plain": [
              "       count      mean       std  min  25%  50%  75%   max\n",
              "tag                                                       \n",
              "LOC   1832.0  1.170306  0.433990  1.0  1.0  1.0  1.0   5.0\n",
              "MISC   916.0  1.466157  0.805684  1.0  1.0  1.0  2.0   5.0\n",
              "ORG   1325.0  1.575849  1.018569  1.0  1.0  1.0  2.0  10.0\n",
              "PER   1829.0  1.735375  0.594431  1.0  1.0  2.0  2.0   7.0"
            ],
            "text/html": [
              "\n",
              "  <div id=\"df-6aad78ba-467b-4199-9d54-a26b13e8640b\">\n",
              "    <div class=\"colab-df-container\">\n",
              "      <div>\n",
              "<style scoped>\n",
              "    .dataframe tbody tr th:only-of-type {\n",
              "        vertical-align: middle;\n",
              "    }\n",
              "\n",
              "    .dataframe tbody tr th {\n",
              "        vertical-align: top;\n",
              "    }\n",
              "\n",
              "    .dataframe thead th {\n",
              "        text-align: right;\n",
              "    }\n",
              "</style>\n",
              "<table border=\"1\" class=\"dataframe\">\n",
              "  <thead>\n",
              "    <tr style=\"text-align: right;\">\n",
              "      <th></th>\n",
              "      <th>count</th>\n",
              "      <th>mean</th>\n",
              "      <th>std</th>\n",
              "      <th>min</th>\n",
              "      <th>25%</th>\n",
              "      <th>50%</th>\n",
              "      <th>75%</th>\n",
              "      <th>max</th>\n",
              "    </tr>\n",
              "    <tr>\n",
              "      <th>tag</th>\n",
              "      <th></th>\n",
              "      <th></th>\n",
              "      <th></th>\n",
              "      <th></th>\n",
              "      <th></th>\n",
              "      <th></th>\n",
              "      <th></th>\n",
              "      <th></th>\n",
              "    </tr>\n",
              "  </thead>\n",
              "  <tbody>\n",
              "    <tr>\n",
              "      <th>LOC</th>\n",
              "      <td>1832.0</td>\n",
              "      <td>1.170306</td>\n",
              "      <td>0.433990</td>\n",
              "      <td>1.0</td>\n",
              "      <td>1.0</td>\n",
              "      <td>1.0</td>\n",
              "      <td>1.0</td>\n",
              "      <td>5.0</td>\n",
              "    </tr>\n",
              "    <tr>\n",
              "      <th>MISC</th>\n",
              "      <td>916.0</td>\n",
              "      <td>1.466157</td>\n",
              "      <td>0.805684</td>\n",
              "      <td>1.0</td>\n",
              "      <td>1.0</td>\n",
              "      <td>1.0</td>\n",
              "      <td>2.0</td>\n",
              "      <td>5.0</td>\n",
              "    </tr>\n",
              "    <tr>\n",
              "      <th>ORG</th>\n",
              "      <td>1325.0</td>\n",
              "      <td>1.575849</td>\n",
              "      <td>1.018569</td>\n",
              "      <td>1.0</td>\n",
              "      <td>1.0</td>\n",
              "      <td>1.0</td>\n",
              "      <td>2.0</td>\n",
              "      <td>10.0</td>\n",
              "    </tr>\n",
              "    <tr>\n",
              "      <th>PER</th>\n",
              "      <td>1829.0</td>\n",
              "      <td>1.735375</td>\n",
              "      <td>0.594431</td>\n",
              "      <td>1.0</td>\n",
              "      <td>1.0</td>\n",
              "      <td>2.0</td>\n",
              "      <td>2.0</td>\n",
              "      <td>7.0</td>\n",
              "    </tr>\n",
              "  </tbody>\n",
              "</table>\n",
              "</div>\n",
              "      <button class=\"colab-df-convert\" onclick=\"convertToInteractive('df-6aad78ba-467b-4199-9d54-a26b13e8640b')\"\n",
              "              title=\"Convert this dataframe to an interactive table.\"\n",
              "              style=\"display:none;\">\n",
              "        \n",
              "  <svg xmlns=\"http://www.w3.org/2000/svg\" height=\"24px\"viewBox=\"0 0 24 24\"\n",
              "       width=\"24px\">\n",
              "    <path d=\"M0 0h24v24H0V0z\" fill=\"none\"/>\n",
              "    <path d=\"M18.56 5.44l.94 2.06.94-2.06 2.06-.94-2.06-.94-.94-2.06-.94 2.06-2.06.94zm-11 1L8.5 8.5l.94-2.06 2.06-.94-2.06-.94L8.5 2.5l-.94 2.06-2.06.94zm10 10l.94 2.06.94-2.06 2.06-.94-2.06-.94-.94-2.06-.94 2.06-2.06.94z\"/><path d=\"M17.41 7.96l-1.37-1.37c-.4-.4-.92-.59-1.43-.59-.52 0-1.04.2-1.43.59L10.3 9.45l-7.72 7.72c-.78.78-.78 2.05 0 2.83L4 21.41c.39.39.9.59 1.41.59.51 0 1.02-.2 1.41-.59l7.78-7.78 2.81-2.81c.8-.78.8-2.07 0-2.86zM5.41 20L4 18.59l7.72-7.72 1.47 1.35L5.41 20z\"/>\n",
              "  </svg>\n",
              "      </button>\n",
              "      \n",
              "  <style>\n",
              "    .colab-df-container {\n",
              "      display:flex;\n",
              "      flex-wrap:wrap;\n",
              "      gap: 12px;\n",
              "    }\n",
              "\n",
              "    .colab-df-convert {\n",
              "      background-color: #E8F0FE;\n",
              "      border: none;\n",
              "      border-radius: 50%;\n",
              "      cursor: pointer;\n",
              "      display: none;\n",
              "      fill: #1967D2;\n",
              "      height: 32px;\n",
              "      padding: 0 0 0 0;\n",
              "      width: 32px;\n",
              "    }\n",
              "\n",
              "    .colab-df-convert:hover {\n",
              "      background-color: #E2EBFA;\n",
              "      box-shadow: 0px 1px 2px rgba(60, 64, 67, 0.3), 0px 1px 3px 1px rgba(60, 64, 67, 0.15);\n",
              "      fill: #174EA6;\n",
              "    }\n",
              "\n",
              "    [theme=dark] .colab-df-convert {\n",
              "      background-color: #3B4455;\n",
              "      fill: #D2E3FC;\n",
              "    }\n",
              "\n",
              "    [theme=dark] .colab-df-convert:hover {\n",
              "      background-color: #434B5C;\n",
              "      box-shadow: 0px 1px 3px 1px rgba(0, 0, 0, 0.15);\n",
              "      filter: drop-shadow(0px 1px 2px rgba(0, 0, 0, 0.3));\n",
              "      fill: #FFFFFF;\n",
              "    }\n",
              "  </style>\n",
              "\n",
              "      <script>\n",
              "        const buttonEl =\n",
              "          document.querySelector('#df-6aad78ba-467b-4199-9d54-a26b13e8640b button.colab-df-convert');\n",
              "        buttonEl.style.display =\n",
              "          google.colab.kernel.accessAllowed ? 'block' : 'none';\n",
              "\n",
              "        async function convertToInteractive(key) {\n",
              "          const element = document.querySelector('#df-6aad78ba-467b-4199-9d54-a26b13e8640b');\n",
              "          const dataTable =\n",
              "            await google.colab.kernel.invokeFunction('convertToInteractive',\n",
              "                                                     [key], {});\n",
              "          if (!dataTable) return;\n",
              "\n",
              "          const docLinkHtml = 'Like what you see? Visit the ' +\n",
              "            '<a target=\"_blank\" href=https://colab.research.google.com/notebooks/data_table.ipynb>data table notebook</a>'\n",
              "            + ' to learn more about interactive tables.';\n",
              "          element.innerHTML = '';\n",
              "          dataTable['output_type'] = 'display_data';\n",
              "          await google.colab.output.renderOutput(dataTable, element);\n",
              "          const docLink = document.createElement('div');\n",
              "          docLink.innerHTML = docLinkHtml;\n",
              "          element.appendChild(docLink);\n",
              "        }\n",
              "      </script>\n",
              "    </div>\n",
              "  </div>\n",
              "  "
            ]
          },
          "metadata": {},
          "execution_count": 43
        }
      ]
    },
    {
      "cell_type": "markdown",
      "source": [
        "**Findings**\n",
        "\n",
        "*   The longest Named Entities are (as quite expected) are referring to names and surnames - `PER` tag.\n",
        "*   Anyway, entities are on average less than 2 tokens, which means that they are mostly simple and do not contain nested Named Entities."
      ],
      "metadata": {
        "id": "bv2a2HXyA1qh"
      }
    }
  ]
}