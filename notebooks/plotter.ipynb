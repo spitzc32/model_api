{
 "cells": [
  {
   "cell_type": "code",
   "execution_count": 2,
   "metadata": {},
   "outputs": [
    {
     "ename": "SyntaxError",
     "evalue": "invalid syntax. Perhaps you forgot a comma? (1444142184.py, line 11)",
     "output_type": "error",
     "traceback": [
      "\u001b[0;36m  Cell \u001b[0;32mIn [2], line 11\u001b[0;36m\u001b[0m\n\u001b[0;31m    plt.plot(x2, y label = \"Validation loss\")\u001b[0m\n\u001b[0m                 ^\u001b[0m\n\u001b[0;31mSyntaxError\u001b[0m\u001b[0;31m:\u001b[0m invalid syntax. Perhaps you forgot a comma?\n"
     ]
    }
   ],
   "source": [
    "import matplotlib.pyplot as plt\n",
    "  \n",
    "# create data\n",
    "x1 = [2.5,2.23,2.2,2.16,2.1,2.05,1.95,1.94,1.93,1.92,1.89,1.86,1.8,1.7,1.68, 1.58, 1.4, 1.2, 1, 0.75, 0.5]\n",
    "x2 = [2,1.95,1.85,1.78,1.75,1.74,1.72,1.71,1.68,1.66,1.654,1.65,1.642,1.621,1.6, 1.5, 1.35, 1.15, 0.85, 0.65, 0.4]\n",
    "y = [i for i in range(1,22)]\n",
    "\n",
    "# plot lines\n",
    "plt.title(\"3e-5\")\n",
    "plt.plot(x1, y, label = \"training loss\")\n",
    "plt.plot(x2, y, label = \"Validation loss\")\n",
    "plt.legend()\n",
    "plt.show()"
   ]
  }
 ],
 "metadata": {
  "kernelspec": {
   "display_name": "Python 3",
   "language": "python",
   "name": "python3"
  },
  "language_info": {
   "codemirror_mode": {
    "name": "ipython",
    "version": 3
   },
   "file_extension": ".py",
   "mimetype": "text/x-python",
   "name": "python",
   "nbconvert_exporter": "python",
   "pygments_lexer": "ipython3",
   "version": "3.10.6 (main, Aug 30 2022, 05:09:33) [Clang 12.0.0 (clang-1200.0.32.29)]"
  },
  "orig_nbformat": 4,
  "vscode": {
   "interpreter": {
    "hash": "aee8b7b246df8f9039afb4144a1f6fd8d2ca17a180786b69acc140d282b71a49"
   }
  }
 },
 "nbformat": 4,
 "nbformat_minor": 2
}
